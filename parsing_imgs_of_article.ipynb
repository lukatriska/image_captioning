{
 "cells": [
  {
   "cell_type": "code",
   "execution_count": 3,
   "metadata": {},
   "outputs": [],
   "source": [
    "import requests\n",
    "from bs4 import BeautifulSoup"
   ]
  },
  {
   "cell_type": "code",
   "execution_count": 4,
   "metadata": {},
   "outputs": [],
   "source": [
    "main_url = \"http://www.istpravda.com.ua/\""
   ]
  },
  {
   "cell_type": "code",
   "execution_count": 5,
   "metadata": {},
   "outputs": [],
   "source": [
    "articles = ['articles/2019/08/5/156054/', 'articles/2019/07/29/156021/', 'articles/2019/07/24/156001/', 'articles/2019/07/23/155994/']\n",
    "\n",
    "biglst = []\n",
    "\n",
    "for article in articles:\n",
    "    result = requests.get(main_url + article)\n",
    "    soup = BeautifulSoup(result.text, 'html.parser')\n",
    "    \n",
    "    lst = []\n",
    "\n",
    "    for x in soup.find_all(\"div\", class_=\"image-box\"):\n",
    "        try:\n",
    "            lst.append([x.find(\"img\").get(\"src\"), x.find(\"div\", class_=\"image-box__caption\").p.text])\n",
    "        except AttributeError:\n",
    "            try:\n",
    "                lst.append([x.find(\"img\").get(\"src\"), x.find(\"div\", class_=\"image-box__caption\").text])\n",
    "            except AttributeError:\n",
    "                pass\n",
    "            pass\n",
    "    \n",
    "    biglst.append(lst)\n",
    "        \n"
   ]
  },
  {
   "cell_type": "code",
   "execution_count": 7,
   "metadata": {},
   "outputs": [
    {
     "data": {
      "text/plain": [
       "[['/images/doc/c/4/c45fdbd-00000188.jpg',\n",
       "  'Схема Львівсько-Сандомирської наступальної операції Червоної армії, в ході якої 27 липня 1944 року нацистів вигнали зі Львова'],\n",
       " ['/images/doc/d/d/dd6c26e-1110.jpg', 'Перед Львіською оперою'],\n",
       " ['/images/doc/b/9/b99cdf7-142.jpg',\n",
       "  'Автомобілі, припарковані на сучасній площі Міцкевича у Львові, 1941 рік'],\n",
       " ['/images/doc/6/9/698f3a7-th.ejcuplo1l0oo0sk8c40s8osc4.e9k3xqg7hfk00g4cccwscksc.okkupir-lvov-1942-author-kokany.jpg',\n",
       "  \"Льів'яни на Адольф-Гітлер-плац, нині проспект Свободи, 1942 рік\"],\n",
       " ['/images/doc/9/b/9baee24-094-x-20a6a553.jpg',\n",
       "  'Німецьке оголошення з погрозами каральних операцій, якщо українські повстанці не повернуть доктора Шене живого. Оскільки цю вимогу в принципі виконати було неможливо\\xa0— Шене застрелили упівці в його автомобілі прямо на дорозі між селами Веринь і Роздол Миколаївського району Львівщини — нацистські окупанти згадалі села спалили\\xa0\\xa0'],\n",
       " ['/images/doc/d/0/d0ed371-142.jpg',\n",
       "  '\"Вісті з Радянської Батьківщини\" за 1943 рік, які видавало Головне політичне управління Червоної армії'],\n",
       " ['/images/doc/3/7/378c569-nastia3-.jpg',\n",
       "  \"Греко-католицька черниця Чину святого Василія Великого сестра Маріям (в миру - Анастасія Волошин) є найвідомішою українською стигматичкою. Стигми в неї з'явилися у віці 24 років. Вона дожила до часів незалежності України й помера в 1994 році\"],\n",
       " ['/images/doc/9/1/9159431--bov---jazkova-postanova---vivs-kogo-mis-kvikonkomu----1vid-27-lipnja-1944----ro-vidnovlennja-porjadoku-organizatsiji-bezpeki-gospodars-kogo-ta-kul-turnogo-zhittja-------.jpg',\n",
       "  'Обов\\'язкова постанова Львівського міськвиконкому №1 від 27 липня 1944 \"Про відновлення порядоку організації безпеки господарського та культурного життя\"\\xa0'],\n",
       " ['/images/doc/d/4/d409093----vova,-prisvjachenij-vizvolennja-mista-vid-natsis-kogo-okupatsijnogo-rezhimu.-agal-nomis-kij-miting-zhiteliv-m.jpg',\n",
       "  'Офіційний комуністичний мітинг з нагоди вигнання нацистів зі Львова']]"
      ]
     },
     "execution_count": 7,
     "metadata": {},
     "output_type": "execute_result"
    }
   ],
   "source": [
    "biglst[1]"
   ]
  },
  {
   "cell_type": "code",
   "execution_count": 82,
   "metadata": {},
   "outputs": [],
   "source": [
    "\n",
    "result = requests.get(\"http://www.istpravda.com.ua/articles/2019/07/24/156001/\")"
   ]
  },
  {
   "cell_type": "code",
   "execution_count": null,
   "metadata": {},
   "outputs": [],
   "source": [
    "\n",
    "soup = BeautifulSoup(result.text, 'html.parser')"
   ]
  },
  {
   "cell_type": "code",
   "execution_count": null,
   "metadata": {},
   "outputs": [],
   "source": [
    "lst = []\n",
    "\n",
    "for x in soup.find_all(\"div\", class_=\"image-box\"):\n",
    "    try:\n",
    "        lst.append([x.find(\"img\").get(\"src\"), x.find(\"div\", class_=\"image-box__caption\").p.text])\n",
    "    except AttributeError:\n",
    "        try:\n",
    "            lst.append([x.find(\"img\").get(\"src\"), x.find(\"div\", class_=\"image-box__caption\").text])\n",
    "        except AttributeError:\n",
    "            pass\n",
    "        pass\n",
    "lst\n",
    "\n"
   ]
  },
  {
   "cell_type": "code",
   "execution_count": null,
   "metadata": {},
   "outputs": [],
   "source": []
  },
  {
   "cell_type": "code",
   "execution_count": null,
   "metadata": {},
   "outputs": [],
   "source": []
  }
 ],
 "metadata": {
  "kernelspec": {
   "display_name": "Python 3",
   "language": "python",
   "name": "python3"
  },
  "language_info": {
   "codemirror_mode": {
    "name": "ipython",
    "version": 3
   },
   "file_extension": ".py",
   "mimetype": "text/x-python",
   "name": "python",
   "nbconvert_exporter": "python",
   "pygments_lexer": "ipython3",
   "version": "3.7.3"
  }
 },
 "nbformat": 4,
 "nbformat_minor": 2
}
