{
 "cells": [
  {
   "cell_type": "code",
   "execution_count": 1,
   "metadata": {},
   "outputs": [],
   "source": [
    "import requests\n",
    "from bs4 import BeautifulSoup"
   ]
  },
  {
   "cell_type": "code",
   "execution_count": 2,
   "metadata": {},
   "outputs": [],
   "source": [
    "main_url = \"http://www.istpravda.com.ua/\"\n",
    "num_pages = 90"
   ]
  },
  {
   "cell_type": "markdown",
   "metadata": {},
   "source": [
    "## Getting a list of all articles links"
   ]
  },
  {
   "cell_type": "code",
   "execution_count": 5,
   "metadata": {},
   "outputs": [],
   "source": [
    "articles = []\n",
    "\n",
    "for i in range(num_pages):\n",
    "    \n",
    "    print(i)\n",
    "    \n",
    "    soup = BeautifulSoup(requests.get(main_url + \"articles/\" + \"page_\" + str(i)).text, 'html.parser')\n",
    "    \n",
    "    for x in soup.find_all(\"h3\", class_='article__title'):\n",
    "        articles.append(x.a.get(\"href\")) \n",
    "    "
   ]
  },
  {
   "cell_type": "code",
   "execution_count": 6,
   "metadata": {},
   "outputs": [
    {
     "data": {
      "text/plain": [
       "1088"
      ]
     },
     "execution_count": 6,
     "metadata": {},
     "output_type": "execute_result"
    }
   ],
   "source": [
    "len(articles)"
   ]
  },
  {
   "cell_type": "markdown",
   "metadata": {},
   "source": [
    "## Scraping images and their captions from all of the above articles "
   ]
  },
  {
   "cell_type": "code",
   "execution_count": 9,
   "metadata": {},
   "outputs": [
    {
     "name": "stdout",
     "output_type": "stream",
     "text": [
      "1 :  /articles/2019/08/5/156054/\n",
      "2 :  /articles/2019/07/29/156021/\n",
      "3 :  /articles/2019/07/24/156001/\n",
      "4 :  /articles/2019/07/23/155994/\n",
      "5 :  /articles/2019/07/12/155954/\n",
      "6 :  /articles/2019/07/11/155947/\n",
      "7 :  /articles/2019/07/10/155940/\n",
      "8 :  /articles/2019/07/8/155924/\n",
      "9 :  /articles/2019/06/30/155897/\n",
      "10 :  /articles/2019/06/27/155891/\n"
     ]
    }
   ],
   "source": [
    "all = {}\n",
    "counter = 1\n",
    "\n",
    "for article in articles[:10]:\n",
    "    print(counter, \": \", article)\n",
    "    soup = BeautifulSoup(requests.get(main_url + \"articles/\" + article).text, 'html.parser')\n",
    "    \n",
    "    lst = []\n",
    "\n",
    "    for x in soup.find_all(\"div\", class_=\"image-box\"):\n",
    "        try:\n",
    "            lst.append([x.find(\"img\").get(\"src\"), x.find(\"div\", class_=\"image-box__caption\").p.text])\n",
    "        except AttributeError:\n",
    "            try:\n",
    "                lst.append([x.find(\"img\").get(\"src\"), x.find(\"div\", class_=\"image-box__caption\").text])\n",
    "            except AttributeError:\n",
    "                pass\n",
    "            pass\n",
    "    \n",
    "    all[article] = lst\n",
    "    counter += 1\n",
    "\n"
   ]
  },
  {
   "cell_type": "code",
   "execution_count": 1,
   "metadata": {},
   "outputs": [],
   "source": [
    "# all"
   ]
  },
  {
   "cell_type": "code",
   "execution_count": 17,
   "metadata": {},
   "outputs": [],
   "source": [
    "keys_to_pop = []\n",
    "\n",
    "for key in all:\n",
    "    if all[key] == []:\n",
    "        keys_to_pop.append(key)"
   ]
  },
  {
   "cell_type": "code",
   "execution_count": 18,
   "metadata": {},
   "outputs": [],
   "source": [
    "for key in keys_to_pop:\n",
    "    all.pop(key, None)"
   ]
  },
  {
   "cell_type": "code",
   "execution_count": 2,
   "metadata": {},
   "outputs": [],
   "source": [
    "# all"
   ]
  },
  {
   "cell_type": "markdown",
   "metadata": {},
   "source": [
    "## Downloading images"
   ]
  },
  {
   "cell_type": "code",
   "execution_count": 11,
   "metadata": {},
   "outputs": [],
   "source": [
    "import urllib.request"
   ]
  },
  {
   "cell_type": "code",
   "execution_count": 12,
   "metadata": {},
   "outputs": [
    {
     "data": {
      "text/plain": [
       "'http://www.istpravda.com.ua/'"
      ]
     },
     "execution_count": 12,
     "metadata": {},
     "output_type": "execute_result"
    }
   ],
   "source": [
    "main_url"
   ]
  },
  {
   "cell_type": "code",
   "execution_count": 14,
   "metadata": {},
   "outputs": [
    {
     "name": "stdout",
     "output_type": "stream",
     "text": [
      "http://www.istpravda.com.ua/images/doc/c/4/c45fdbd-00000188.jpg\n",
      "http://www.istpravda.com.ua/images/doc/c/4/c45fdbd-00000188.jpg\n"
     ]
    }
   ],
   "source": [
    "def dl_img(url, file_path, file_name):\n",
    "    full_path = file_path + file_name + '.jpg'\n",
    "    urllib.request.urlretrieve(url, full_path)\n",
    "    \n",
    "print('http://www.istpravda.com.ua/images/doc/c/4/c45fdbd-00000188.jpg')\n",
    "    \n",
    "print(main_url + 'images/doc/c/4/c45fdbd-00000188.jpg')\n",
    "    \n",
    "dl_img(main_url + 'images/doc/c/4/c45fdbd-00000188.jpg', 'images/', 'some_name')\n"
   ]
  },
  {
   "cell_type": "code",
   "execution_count": null,
   "metadata": {},
   "outputs": [],
   "source": []
  },
  {
   "cell_type": "code",
   "execution_count": 18,
   "metadata": {},
   "outputs": [],
   "source": [
    "import sqlite3\n",
    "from sqlite3 import Error\n",
    " \n",
    "def creator():\n",
    "    conn = sqlite3.connect(\"main_database.db\")\n",
    "    cursor = conn.cursor()\n",
    "    try:\n",
    "        cursor.execute(\"\"\"CREATE TABLE pictures (link, description)\"\"\")\n",
    "        conn.commit()\n",
    "    except sqlite3.OperationalError:\n",
    "        print('Database already exist')\n",
    "\n",
    "\n",
    "if __name__ == '__main__':\n",
    "    creator()\n",
    "\n"
   ]
  },
  {
   "cell_type": "code",
   "execution_count": null,
   "metadata": {},
   "outputs": [],
   "source": []
  },
  {
   "cell_type": "code",
   "execution_count": null,
   "metadata": {},
   "outputs": [],
   "source": []
  }
 ],
 "metadata": {
  "kernelspec": {
   "display_name": "Python 3",
   "language": "python",
   "name": "python3"
  },
  "language_info": {
   "codemirror_mode": {
    "name": "ipython",
    "version": 3
   },
   "file_extension": ".py",
   "mimetype": "text/x-python",
   "name": "python",
   "nbconvert_exporter": "python",
   "pygments_lexer": "ipython3",
   "version": "3.7.3"
  }
 },
 "nbformat": 4,
 "nbformat_minor": 2
}
