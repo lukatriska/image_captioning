{
 "cells": [
  {
   "cell_type": "markdown",
   "metadata": {},
   "source": [
    "## Prerequisites\n",
    "\n",
    "- python 2.7\n",
    "- requests\n",
    "- beautifulsoup4\n",
    "- pandas"
   ]
  },
  {
   "cell_type": "markdown",
   "metadata": {},
   "source": [
    "## Objective\n",
    "\n",
    "We want to scrape the data of an online book store: http://books.toscrape.com/\n",
    "\n",
    "This website is fictional so we can scrape it as much as we want.\n",
    "\n",
    "In this tutorial we will be gathering the following information about all the products of the website:\n",
    "- book title\n",
    "- price\n",
    "- availability\n",
    "- image\n",
    "- category\n",
    "- rating"
   ]
  },
  {
   "cell_type": "markdown",
   "metadata": {},
   "source": [
    "## Warm-up: get the content of the main page\n",
    "\n",
    "First let's use the requests module to get the HTML of the website's main page."
   ]
  },
  {
   "cell_type": "code",
   "execution_count": 65,
   "metadata": {},
   "outputs": [],
   "source": [
    "main_url = \"http://www.istpravda.com.ua/\""
   ]
  },
  {
   "cell_type": "code",
   "execution_count": 100,
   "metadata": {},
   "outputs": [],
   "source": [
    "article_url = main_url + \"articles/2019/01/8/153493/\"\n",
    "norm_article_url = main_url + \"articles/2019/07/23/155994/\""
   ]
  },
  {
   "cell_type": "code",
   "execution_count": 101,
   "metadata": {},
   "outputs": [],
   "source": [
    "import requests\n",
    "result = requests.get(norm_article_url)"
   ]
  },
  {
   "cell_type": "code",
   "execution_count": 102,
   "metadata": {},
   "outputs": [
    {
     "data": {
      "text/plain": [
       "'<!DOCTYPE html>\\n<html>\\n    <head>\\n    <meta http-equiv=\"Content-Type\" content=\"text/html; charset=utf-8\" />\\n    <title>Вербиця. Історія одного села із Закерзоння | Історична правда</title>\\n    <meta name=\"viewport\" content=\"width=device-width,initial-scale=1,maximum-scale=1,user-scalable=yes\">\\n    <link href=\"https://fonts.googleapis.com/css?family=Fira+Sans:400,400i,700,700i,800,800i&amp;subset=cyrillic,cyrillic-ext,latin-ext\" rel=\"stylesheet\">\\n<link rel=\"stylesheet\" href=\"/misc/v2/index.css?v=17\">\\r\\n<link rel=\"stylesheet\" href=\"/misc/v2/responsive.css?v=1\">\\n\\n\\n<meta name=\"robots\" content=\"index,follow\">\\n\\n\\n<meta name=\"description\" content=\"\">\\n<meta name=\"keywords\" content=\"\">\\n<meta name=\"document-state\" content=\"state\">\\n<meta name=\"revisit-after\" content=\"1 days\">\\n\\n<script src=\"/misc/v2/jquery-1.9.1.min.js\"></script>\\n\\n<script src=\"/misc/v2/common.js?v=1\"></script>\\n\\n\\n<meta property=\"og:title\" content=\"Вербиця. Історія одного села із Закерзоння\"/>\\n<meta property=\"og:type\" content=\"article'"
      ]
     },
     "execution_count": 102,
     "metadata": {},
     "output_type": "execute_result"
    }
   ],
   "source": [
    "result.text[:1000]"
   ]
  },
  {
   "cell_type": "markdown",
   "metadata": {},
   "source": [
    "The result is quite messy! Let's make this more readable:"
   ]
  },
  {
   "cell_type": "code",
   "execution_count": 103,
   "metadata": {},
   "outputs": [],
   "source": [
    "from bs4 import BeautifulSoup\n",
    "soup = BeautifulSoup(result.text, 'html.parser')"
   ]
  },
  {
   "cell_type": "code",
   "execution_count": 104,
   "metadata": {},
   "outputs": [
    {
     "name": "stdout",
     "output_type": "stream",
     "text": [
      "<!DOCTYPE html>\n",
      "<html>\n",
      " <head>\n",
      "  <meta content=\"text/html; charset=utf-8\" http-equiv=\"Content-Type\"/>\n",
      "  <title>\n",
      "   Вербиця. Історія одного села із Закерзоння | Історична правда\n",
      "  </title>\n",
      "  <meta content=\"width=device-width,initial-scale=1,maximum-scale=1,user-scalable=yes\" name=\"viewport\"/>\n",
      "  <link href=\"https://fonts.googleapis.com/css?family=Fira+Sans:400,400i,700,700i,800,800i&amp;subset=cyrillic,cyrillic-ext,latin-ext\" rel=\"stylesheet\"/>\n",
      "  <link href=\"/misc/v2/index.css?v=17\" rel=\"stylesheet\"/>\n",
      "  <link href=\"/misc/v2/responsive.css?v=1\" rel=\"stylesheet\"/>\n",
      "  <meta content=\"index,follow\" name=\"robots\"/>\n",
      "  <meta content=\"\" name=\"description\"/>\n",
      "  <meta content=\"\" name=\"keywords\"/>\n",
      "  <meta content=\"state\" name=\"document-state\"/>\n",
      "  <meta content=\"1 days\" name=\"revisit-after\"/>\n",
      "  <script src=\"/misc/v2/jquery-1.9.1.min.js\">\n",
      "  </script>\n",
      "  <script src=\"/misc/v2/common.js?v=1\">\n",
      "  </script>\n",
      "  <meta content=\"Вербиця. Історія одного села із Закерзоння\" property=\"og:title\">\n",
      "   <meta content=\"art\n"
     ]
    }
   ],
   "source": [
    "print(soup.prettify()[:1000])"
   ]
  },
  {
   "cell_type": "markdown",
   "metadata": {},
   "source": [
    "The function prettify() makes the HTML more readable. However we will not use this directly to explore where the relevant data is.\n",
    "\n",
    "Let's define a function to request and parse a HTML web page as we will need this a lot during this tutorial:"
   ]
  },
  {
   "cell_type": "code",
   "execution_count": 128,
   "metadata": {},
   "outputs": [],
   "source": [
    "def getAndParseURL(url):\n",
    "    result = requests.get(url)\n",
    "    soup = BeautifulSoup(result.text, 'html.parser')\n",
    "    return(soup)"
   ]
  },
  {
   "cell_type": "code",
   "execution_count": 140,
   "metadata": {},
   "outputs": [
    {
     "data": {
      "text/plain": [
       "[<div class=\"image-box image-box_center\" style=\"max-width: 660px;\">\n",
       " <img alt=\"\" height=\"416\" src=\"/images/doc/5/c/5c8995f-1111.jpg\" title=\"\" width=\"660\"/>\n",
       " </div>,\n",
       " <div class=\"image-box image-box_center\" style=\"max-width: 660px;\"><img alt=\" \" src=\"/images/doc/0/8/0818559-roodl.jpg\">\n",
       " <div class=\"image-box__caption\">\n",
       " <p style=\"text-align: center;\">Схема Вербиці. Зроблена колишнім жителем.</p>\n",
       " </div>\n",
       " <div class=\"image-box__author\"></div>\n",
       " </img></div>,\n",
       " <div class=\"image-box image-box_center\" style=\"max-width: 660px;\"><img alt=\" \" src=\"/images/doc/6/d/6da61c9---ubijovicha.mapa--.png\">\n",
       " <div class=\"image-box__caption\">\n",
       " <p style=\"text-align: center;\">Етнічний склад регіону згідно мапи В Кубійовича</p>\n",
       " </div>\n",
       " <div class=\"image-box__author\" style=\"text-align: center;\">В. Кубійович Етнічні групи південозахідної України (Галичини) на 01.01.1939</div>\n",
       " </img></div>,\n",
       " <div class=\"image-box image-box_left\" style=\"max-width: 200px;\"><img alt=\" \" src=\"/images/doc/c/9/c9ef5c1-rodovi-gerbi-rodu--omeriv-ta--itins-kikh.jpg\"/>\n",
       " <div class=\"image-box__caption\">\n",
       " <p style=\"text-align: center;\">Герби родин Ромерів та Літинських</p>\n",
       " </div>\n",
       " <div class=\"image-box__author\"></div>\n",
       " </div>,\n",
       " <div class=\"image-box image-box_center\" style=\"max-width: 660px;\"><a href=\"/images/doc/1/4/1455738-from-the-second-military-survey-of-the-austro-hungarian-empire-original.png\" target=\"_blank\"><img alt=\" \" src=\"/images/doc/1/4/1455738-from-the-second-military-survey-of-the-austro-hungarian-empire.png\"/></a>\n",
       " <div class=\"image-box__caption\">\n",
       " <p style=\"text-align: center;\">Військова карта Австро-Угорської імперії </p>\n",
       " </div>\n",
       " <div class=\"image-box__author\" style=\"text-align: center;\">mapire.eu</div>\n",
       " </div>,\n",
       " <div class=\"image-box image-box_center\" style=\"max-width: 660px;\"><img alt=\" \" src=\"/images/doc/a/e/ae6a95b-sokil.png\"/>\n",
       " <div class=\"image-box__caption\"></div>\n",
       " <div class=\"image-box__author\" style=\"text-align: center;\">Джерело: Б. Гук 1947</div>\n",
       " </div>,\n",
       " <div class=\"image-box image-box_center\" style=\"max-width: 600px;\"><img alt=\" \" src=\"/images/doc/2/b/2be4154-palats--omeriv.jpg\"/>\n",
       " <div class=\"image-box__caption\">\n",
       " <p style=\"text-align: center;\">Нинішній стан двору Ромерів </p>\n",
       " </div>\n",
       " <div class=\"image-box__author\" style=\"text-align: center;\">Фото з мережі.</div>\n",
       " </div>,\n",
       " <div class=\"image-box image-box_center\" style=\"max-width: 265px;\"><img alt=\" \" src=\"/images/doc/8/0/80da45c-.-ushkar--.png\"/>\n",
       " <div class=\"image-box__caption\"></div>\n",
       " <div class=\"image-box__author\"></div>\n",
       " </div>,\n",
       " <div class=\"image-box image-box_center\" style=\"max-width: 660px;\"><img alt=\" \" src=\"/images/doc/5/9/59e2986-mapa-rru.jpg\"/>\n",
       " <div class=\"image-box__caption\">\n",
       " <p style=\"text-align: center;\">Схема укріплень \"Лінії Молотова\"</p>\n",
       " </div>\n",
       " <div class=\"image-box__author\"></div>\n",
       " </div>,\n",
       " <div class=\"image-box image-box_center\" style=\"max-width: 331px;\"><img alt=\" \" src=\"/images/doc/0/d/0d2d2a0-.-il---.png\"/>\n",
       " <div class=\"image-box__caption\"></div>\n",
       " <div class=\"image-box__author\">\n",
       " <p style=\"text-align: center;\">БогдаН Гук. 1947</p>\n",
       " </div>\n",
       " </div>,\n",
       " <div class=\"image-box image-box_center\" style=\"max-width: 660px;\"><img alt=\" \" src=\"/images/doc/6/2/62e0521-jj.jpg\"/>\n",
       " <div class=\"image-box__caption\">\n",
       " <p style=\"text-align: center;\">Схема боїв у Рава-Руському районі. Вербиця записана як Вежбица<em> </em></p>\n",
       " </div>\n",
       " <div class=\"image-box__author\"></div>\n",
       " </div>,\n",
       " <div class=\"image-box image-box_center\" style=\"max-width: 660px;\"><img alt=\" \" src=\"/images/doc/e/c/ec2b189-natan-ozer.jpg\"/>\n",
       " <div class=\"image-box__caption\">\n",
       " <p style=\"text-align: center;\">Равин Натан Ортер (Rabbi Natan Ortner) Автор збірки спогадів про євреїв Угнева та Угнівщизни. Повоєне фото<em> </em></p>\n",
       " </div>\n",
       " <div class=\"image-box__author\" style=\"text-align: center;\">wikidata.org/wiki/Q6705262</div>\n",
       " </div>,\n",
       " <div class=\"image-box image-box_center\" style=\"max-width: 500px;\"><a href=\"/images/doc/a/2/a204704-.spritzer---original.jpg\" target=\"_blank\"><img alt=\" \" src=\"/images/doc/a/2/a204704-.spritzer--.jpg\"/></a>\n",
       " <div class=\"image-box__caption\">\n",
       " <div style=\"text-align: center;\">Інформація про загиблу Малку Шпрітцер з Вербиці. Лист показів свідків. Анкета Меморіалу Яд-Вашем (Ізраїль)</div>\n",
       " <div style=\"text-align: center;\"></div>\n",
       " </div>\n",
       " <div class=\"image-box__author\" style=\"text-align: center;\">Меморіал яд-вашем</div>\n",
       " </div>,\n",
       " <div class=\"image-box image-box_center\" style=\"max-width: 660px;\"><img alt=\" \" src=\"/images/doc/9/3/93174f2-222.jpg\"/>\n",
       " <div class=\"image-box__caption\" style=\"text-align: center;\">Максим Случек (1931 р. н.), Ярослав Случей (1929 р. н.) та Марія Коваль (1937 <em>р. н.) </em></div>\n",
       " <div class=\"image-box__author\" style=\"text-align: center;\">\n",
       " <p>З архіву Центру дослідження українсько-польсько-словацького пограниччя УКУ </p>\n",
       " </div>\n",
       " </div>,\n",
       " <div class=\"image-box image-box_center\" style=\"max-width: 660px;\"><img alt=\" \" src=\"/images/doc/0/f/0fb9d70-.-pochatok-90.--erkvi.jpg\"/>\n",
       " <div class=\"image-box__caption\">\n",
       " <p style=\"text-align: center;\">Стан церкви св. Михаїла у Вербиці. Початок 90-х. Нині зруйнована </p>\n",
       " </div>\n",
       " <div class=\"image-box__author\" style=\"text-align: center;\">Фото з мережі</div>\n",
       " </div>,\n",
       " <div class=\"image-box image-box_center\" style=\"max-width: 409px;\"><img alt=\" \" src=\"/images/doc/c/b/cb7bcec-2132.png\"/>\n",
       " <div class=\"image-box__caption\">\n",
       " <p style=\"text-align: center;\">Пам'ятник членам УПА у Вербиці. Зруйнований польськими націоналістами </p>\n",
       " </div>\n",
       " <div class=\"image-box__author\" style=\"text-align: center;\">Фото з мережі</div>\n",
       " </div>,\n",
       " <div class=\"image-box image-box_center\" style=\"max-width: 660px;\"><img alt=\" \" src=\"/images/doc/a/b/ab9dc55-vidrestavrovanij-tsvintar--erbitsja.jpg\"/>\n",
       " <div class=\"image-box__caption\">\n",
       " <p style=\"text-align: center;\">Цвинтар після реставраційних робіт</p>\n",
       " </div>\n",
       " <div class=\"image-box__author\" style=\"text-align: center;\">Фото з мережі</div>\n",
       " </div>]"
      ]
     },
     "execution_count": 140,
     "metadata": {},
     "output_type": "execute_result"
    }
   ],
   "source": [
    "soup.find_all(\"div\", \"image-box\")"
   ]
  },
  {
   "cell_type": "code",
   "execution_count": 127,
   "metadata": {},
   "outputs": [
    {
     "data": {
      "text/plain": [
       "<div class=\"image-box image-box_center\" style=\"max-width: 660px;\">\n",
       "<img alt=\"\" height=\"416\" src=\"/images/doc/5/c/5c8995f-1111.jpg\" title=\"\" width=\"660\"/>\n",
       "</div>"
      ]
     },
     "execution_count": 127,
     "metadata": {},
     "output_type": "execute_result"
    }
   ],
   "source": [
    "soup.find(\"div\", class_ = \"image-box image-box_center\")"
   ]
  },
  {
   "cell_type": "code",
   "execution_count": 126,
   "metadata": {},
   "outputs": [
    {
     "data": {
      "text/plain": [
       "<div class=\"image-box image-box_center\" style=\"max-width: 660px;\">\n",
       "<img alt=\"\" height=\"416\" src=\"/images/doc/5/c/5c8995f-1111.jpg\" title=\"\" width=\"660\"/>\n",
       "</div>"
      ]
     },
     "execution_count": 126,
     "metadata": {},
     "output_type": "execute_result"
    }
   ],
   "source": [
    "soup.find(\"div\", class_ = \"image-box image-box_center\")"
   ]
  },
  {
   "cell_type": "code",
   "execution_count": 152,
   "metadata": {},
   "outputs": [
    {
     "data": {
      "text/plain": [
       "False"
      ]
     },
     "execution_count": 152,
     "metadata": {},
     "output_type": "execute_result"
    }
   ],
   "source": [
    "\"caption\" in soup.find(\"div\", \"image-box\")"
   ]
  },
  {
   "cell_type": "code",
   "execution_count": 166,
   "metadata": {},
   "outputs": [
    {
     "name": "stdout",
     "output_type": "stream",
     "text": [
      "<class 'bs4.element.Tag'>\n",
      "no\n",
      "no\n",
      "no\n",
      "no\n",
      "no\n",
      "no\n",
      "no\n",
      "no\n",
      "no\n",
      "no\n",
      "no\n",
      "no\n",
      "no\n",
      "no\n",
      "no\n",
      "no\n",
      "no\n"
     ]
    }
   ],
   "source": [
    "dicc = {}\n",
    "\n",
    "# lst = [x.img.get(\"src\") for x in soup.findAll(\"div\", class_ = \"image-box\")]\n",
    "lst = [x for x in soup.findAll(\"div\", class_ = \"image-box\")]\n",
    "\n",
    "print(type(lst[1]))\n",
    "\n",
    "for x in lst:\n",
    "    if x.find('image-box__caption'):\n",
    "        print(\"yes\")\n",
    "    else:\n",
    "        print(\"no\")\n",
    "# print(\"image-box__caption\" in x)\n",
    "\n",
    "# for i in range(len(soup.findAll(\"div\", class_ = \"image-box__caption\"))):\n",
    "#     dicc[lst[i]] = soup.findAll(\"div\", class_ = \"image-box__caption\")[i].tbody.tr.td.img.get('src')\n",
    "    \n",
    "# # main_page_products_urls = [[x.strong.text for x in soup.findAll(\"td\", class_ = \"tb_text\")], [x.tbody.tr.td.img.get('src') for x in soup.findAll(\"table\", class_ = \"tb_center\")]]\n",
    "# print(dicc)\n"
   ]
  },
  {
   "cell_type": "markdown",
   "metadata": {},
   "source": [
    "This function is very handy for finding all the values at once, but you have to check that all the information collected is relevant. Sometimes one same tag can contain completely different data. That is why it is important to be as specific as possible when choosing the tags. Here we decided to rely on the tag 'article' with the 'product_pod' class because this seems to be a very specific tag and it is unlikely that we can find data other than product data in it.\n",
    "\n",
    "The previous URLs correspond to their relative path from the main page. In order to make them complete, we just need to add before them the URL of the main page: http://books.toscrape.com/index.html (after removing the index.html part).\n",
    "\n",
    "Now let's use this to define a function to retrieve book links on any given page of the website:"
   ]
  },
  {
   "cell_type": "code",
   "execution_count": 55,
   "metadata": {},
   "outputs": [],
   "source": [
    "def getBooksURLs(url):\n",
    "    soup = getAndParseURL(url)\n",
    "    # remove the index.html part of the base url before returning the results\n",
    "    return([\"/\".join(url.split(\"/\")[:-1]) + \"/\" + x.tbody.tr.td.img.get('src') for x in soup.findAll(\"table\", class_ = \"tb_center\")])"
   ]
  },
  {
   "cell_type": "markdown",
   "metadata": {},
   "source": [
    "## Find book categories URLs on the main page\n",
    "\n",
    "Now let's try retrieving the URLs corresponding the different product categories:"
   ]
  },
  {
   "cell_type": "markdown",
   "metadata": {},
   "source": [
    "<img src=\"images/inspect2.png\">"
   ]
  },
  {
   "cell_type": "markdown",
   "metadata": {},
   "source": [
    "By inspecting, we can see that they follow the same URL pattern: 'catalogue/category/books'. \n",
    "\n",
    "We can tell BeautifulSoup to match the URLs that contain this pattern in order to retrieve easily the categories URLs:"
   ]
  },
  {
   "cell_type": "code",
   "execution_count": 57,
   "metadata": {
    "scrolled": true
   },
   "outputs": [
    {
     "name": "stdout",
     "output_type": "stream",
     "text": [
      "14 fetched categories URLs\n",
      "Some examples:\n"
     ]
    },
    {
     "data": {
      "text/plain": [
       "['http://www.istpravda.com.ua//images/doc/4/9/49ba80c-1.jpg',\n",
       " 'http://www.istpravda.com.ua//images/doc/b/0/b04be88-4.jpg',\n",
       " 'http://www.istpravda.com.ua//images/doc/4/a/4a45cdd-6.jpg',\n",
       " 'http://www.istpravda.com.ua//images/doc/3/7/37edc63-7.jpg',\n",
       " 'http://www.istpravda.com.ua//images/doc/a/b/ab5240e-3.jpg']"
      ]
     },
     "execution_count": 57,
     "metadata": {},
     "output_type": "execute_result"
    }
   ],
   "source": [
    "import re\n",
    "\n",
    "categories_urls = [main_url + x.get('src') for x in soup.find_all(\"img\", src=re.compile(\"images/doc\"))]\n",
    "categories_urls = categories_urls[1:] # we remove the first one because it corresponds to all the books\n",
    "\n",
    "print(str(len(categories_urls)) + \" fetched categories URLs\")\n",
    "print(\"Some examples:\")\n",
    "categories_urls[:5]"
   ]
  },
  {
   "cell_type": "markdown",
   "metadata": {},
   "source": [
    "## Scrape all books data"
   ]
  },
  {
   "cell_type": "markdown",
   "metadata": {},
   "source": [
    "For the last part of this tutorial, we will finally tackle our main objective: gather data about all the books of the website.\n",
    "\n",
    "We know how to get the links of the books within a given page. If all the books were displayed on a same page this would be easy. However this situation is unlikely as it is not very user friendly to display all the catalog to the user on the same page.\n",
    "\n",
    "Usually products are displayed on multiple pages or on one page but through scrolling. We can see here at the bottom of the main page that there are 50 products pages and a button 'next' to access to the next product page."
   ]
  },
  {
   "cell_type": "markdown",
   "metadata": {},
   "source": [
    "<img src=\"images/next.png\">"
   ]
  },
  {
   "cell_type": "markdown",
   "metadata": {},
   "source": [
    "On the next pages there is also a 'previous' button to come back to the last product page."
   ]
  },
  {
   "cell_type": "markdown",
   "metadata": {},
   "source": [
    "<img src=\"images/previous_next.png\">"
   ]
  },
  {
   "cell_type": "markdown",
   "metadata": {},
   "source": [
    "### Get all pages URLs"
   ]
  },
  {
   "cell_type": "markdown",
   "metadata": {},
   "source": [
    "In order to fetch all the products URLs, we need to be able to get through all the pages. To do so, we can go iteratively through all the 'next' buttons."
   ]
  },
  {
   "cell_type": "markdown",
   "metadata": {},
   "source": [
    "<img src=\"images/next_inspect.png\">"
   ]
  },
  {
   "cell_type": "markdown",
   "metadata": {},
   "source": [
    "The 'next' button contains the pattern 'page'. We can use this to retrieve the URLs of the next pages. But let's be careful: the 'previous' button also contains this pattern!\n",
    "\n",
    "If we have two results when matching with 'page', we should take the second one as it will correspond to the next page. For the first and the last pages we will have only one result because we will have either the 'next' button or the 'previous' button."
   ]
  },
  {
   "cell_type": "code",
   "execution_count": 59,
   "metadata": {},
   "outputs": [
    {
     "name": "stdout",
     "output_type": "stream",
     "text": [
      "<!DOCTYPE html>\n",
      "\n",
      "<html>\n",
      "<head>\n",
      "<meta content=\"text/html; charset=utf-8\" http-equiv=\"Content-Type\"/>\n",
      "<title>Історична правда</title>\n",
      "<meta content=\"width=device-width,initial-scale=1,maximum-scale=1,user-scalable=yes\" name=\"viewport\"/>\n",
      "<link href=\"https://fonts.googleapis.com/css?family=Fira+Sans:400,400i,700,700i,800,800i&amp;subset=cyrillic,cyrillic-ext,latin-ext\" rel=\"stylesheet\"/>\n",
      "<link href=\"/misc/v2/index.css?v=17\" rel=\"stylesheet\"/>\n",
      "<link href=\"/misc/v2/responsive.css?v=1\" rel=\"stylesheet\"/>\n",
      "<meta content=\"index,follow\" name=\"robots\"/>\n",
      "<meta content=\"\" name=\"description\"/>\n",
      "<meta content=\"\" name=\"keywords\"/>\n",
      "<meta content=\"state\" name=\"document-state\"/>\n",
      "<meta content=\"1 days\" name=\"revisit-after\"/>\n",
      "<script src=\"/misc/v2/jquery-1.9.1.min.js\"></script>\n",
      "<script src=\"/misc/v2/common.js?v=1\"></script>\n",
      "<meta content=\"\" property=\"og:title\">\n",
      "<meta content=\"article\" property=\"og:type\">\n",
      "<meta content=\"https://www.istpravda.com.ua/\" property=\"og:url\">\n",
      "<meta content=\"https://img.istpravda.com.ua/images/ist.jpg\" property=\"og:image\">\n",
      "<meta content=\"Історична правда\" property=\"og:site_name\">\n",
      "<meta content=\"112439238832293, 100001055709747\" property=\"fb:admins\">\n",
      "<meta content=\"\" property=\"og:description\"/>\n",
      "<meta content=\"summary\" name=\"twitter:card\"/>\n",
      "<meta content=\"@istpravda\" name=\"twitter:site\"/>\n",
      "<meta content=\"\" name=\"twitter:title\"/>\n",
      "<meta content=\"\" name=\"twitter:description\"/>\n",
      "<meta content=\"https://img.istpravda.com.ua/images/ist.jpg\" name=\"twitter:image:src\"/>\n",
      "<script type=\"text/javascript\">\n",
      "  if(top != self) top.location.replace(location);\n",
      "</script>\n",
      "<script src=\"/misc/jquery.sticky.js\"></script>\n",
      "<script src=\"https://apis.google.com/js/plusone.js\" type=\"text/javascript\"></script>\n",
      "<script src=\"https://adnet.pravda.com/examples/adriver.core.2.minifire.js\" type=\"text/javascript\"></script>\n",
      "<!--Блок подключения библиотеки скриптов Admixer-->\n",
      "<script type=\"text/javascript\">\n",
      "(function () {\n",
      "\tvar w = window, d = document;\n",
      "\tw.admixZArr = (w.admixZArr || []);\n",
      "\tw.admixerSmOptions = (w.admixerSmOptions || {});\n",
      "\tw.admixerSmOptions.showAdsOnLoad = true;\n",
      "\tif (!w.admixerSm) {\n",
      "\t    var adms = document.createElement('script');\n",
      "\t    adms.async = true;\n",
      "\t    adms.type = 'text/javascript';\n",
      "\t    adms.src = 'https://cdn.admixer.net/scriptlib/asm2.js?v=3';\n",
      "\t    var node = d.getElementsByTagName('script')[0];\n",
      "\t    node.parentNode.insertBefore(adms, node);\n",
      "\t}\n",
      "})();\n",
      "</script>\n",
      "<!--Конец блока подключения библиотеки скриптов Admixer-->\n",
      "<style type=\"text/css\">\n",
      ".post__text .unit_middle-banner { margin: 0;}\n",
      ".unit_middle-banner > *:not(script):not(style) {\tmargin:0 auto;}\n",
      ".unit_middle-banner {padding: 0;}\n",
      "#uploginmenu {height: 19px;}\n",
      ".title-left {float: left; width: 270px; text-align: left; padding: 10px 14px 10px 10px;}\n",
      ".title-right {float: right; width: 270px; text-align: right; padding: 4px 0 14px 10px;}\n",
      ".alert-grey {padding: 4px 10px 4px 10px; color: #999999; margin: 8px 0 8px 0; border: 1px dotted #900022; font-weight: bold;}\n",
      ".twitter-tweet {margin-left: auto; margin-right: auto;}\n",
      "-->\n",
      "</style>\n",
      "</meta></meta></meta></meta></meta></meta></head>\n",
      "<body class=\"mainpage\">\n",
      "<div class=\"unit_middle-banner\">\n",
      "<!--  AdRiver code START. Type:AjaxJS Site: istpravda SZ: istpravda730main  BN:1 -->\n",
      "<div id=\"adriver_banner_458219742\"></div>\n",
      "<script type=\"text/javascript\">\n",
      "new adriver(\"adriver_banner_458219742\", {sid:220774, bt:52, sz:'istpravda730main', bn:1});\n",
      "</script>\n",
      "<!--  AdRiver code END  -->\n",
      "</div>\n",
      "<nav class=\"offside\" id=\"menu-1\">\n",
      "<a class=\"icon icon--cross menu-btn-1--close h--right\" href=\"#\">\n",
      "<span class=\"icon-bar\"></span>\n",
      "<span class=\"icon-bar\"></span>\n",
      "</a>\n",
      "<div class=\"search_container\">\n",
      "<div class=\"search_form\">\n",
      "<form action=\"/search/\" method=\"get\">\n",
      "<input class=\"search_field\" name=\"search\" placeholder=\"Пошук по сайту\" type=\"text\"/>\n",
      "<input class=\"search_button\" type=\"submit\" value=\"Знайти\"/>\n",
      "</form>\n",
      "</div>\n",
      "</div>\n",
      "<div class=\"side_menu__wrapper\">\n",
      "<div class=\"side_menu\">\n",
      "<nav class=\"block_menu\">\n",
      "<div class=\"menu_title\"><span>Розділи</span></div>\n",
      "<ul class=\"top_menu\">\n",
      "<li class=\"top_menu__item\">\n",
      "<a class=\"top_menu__link\" href=\"/articles/\">Тексти</a>\n",
      "</li>\n",
      "<li class=\"top_menu__item\">\n",
      "<a class=\"top_menu__link\" href=\"/short/\">Коротко</a>\n",
      "</li>\n",
      "<li class=\"top_menu__item\">\n",
      "<a class=\"top_menu__link\" href=\"/reviews/\">Книжки</a>\n",
      "</li>\n",
      "<li class=\"top_menu__item\">\n",
      "<a class=\"top_menu__link\" href=\"/columns/\">Колонки</a>\n",
      "</li>\n",
      "<li class=\"top_menu__item\">\n",
      "<a class=\"top_menu__link\" href=\"/digest/\">Дайджест</a>\n",
      "</li>\n",
      "<li class=\"top_menu__item\">\n",
      "<a class=\"top_menu__link\" href=\"/artefacts/\">Артефакти</a>\n",
      "</li>\n",
      "<li class=\"top_menu__item\">\n",
      "<a class=\"top_menu__link\" href=\"/international/\">International</a>\n",
      "</li>\n",
      "<li class=\"top_menu__item\">\n",
      "<a class=\"top_menu__link\" href=\"/interviews/\">Інтерв'ю</a>\n",
      "</li>\n",
      "</ul>\n",
      "</nav>\n",
      "<nav class=\"block_menu\">\n",
      "<div class=\"menu_title\"><span>Спецпроекти</span></div>\n",
      "<ul class=\"top_menu_sp\">\n",
      "<li class=\"top_menu_sp__item\">\n",
      "<a class=\"top_menu_sp__link\" href=\"/themes/4e675cd3e7673/\"></a>\n",
      "</li>\n",
      "<li class=\"top_menu_sp__item\">\n",
      "<a class=\"top_menu_sp__link\" href=\"/themes/museum/\">Музей</a>\n",
      "</li>\n",
      "<li class=\"top_menu_sp__item\">\n",
      "<a class=\"top_menu_sp__link\" href=\"/themes/holodomor/\">Голодомор</a>\n",
      "</li>\n",
      "<li class=\"top_menu_sp__item\">\n",
      "<a class=\"top_menu_sp__link\" href=\"/themes/katyn/\">Катинь</a>\n",
      "</li>\n",
      "<li class=\"top_menu_sp__item\">\n",
      "<a class=\"top_menu_sp__link\" href=\"/themes/volyn1943/\">Волинь 1943</a>\n",
      "</li>\n",
      "<li class=\"top_menu_sp__item\">\n",
      "<a class=\"top_menu_sp__link\" href=\"/themes/reform500/\">Реформація</a>\n",
      "</li>\n",
      "<li class=\"top_menu_sp__item\">\n",
      "<a class=\"top_menu_sp__link\" href=\"/themes/uje/\">Шалом!</a>\n",
      "</li>\n",
      "<li class=\"top_menu_sp__item\">\n",
      "<a class=\"top_menu_sp__link\" href=\"/themes/canadiana/\">Канадіана</a>\n",
      "</li>\n",
      "<li class=\"top_menu_sp__item\">\n",
      "<a class=\"top_menu_sp__link\" href=\"/themes/rev100/\">Революція 100</a>\n",
      "</li>\n",
      "<li class=\"top_menu_sp__item\">\n",
      "<a class=\"top_menu_sp__link\" href=\"/themes/ww2/\">Революція 100</a>\n",
      "</li>\n",
      "<li class=\"top_menu_sp__item\">\n",
      "<a class=\"top_menu_sp__link\" href=\"/themes/holocaust-history/\">Голокост</a>\n",
      "</li>\n",
      "<li class=\"top_menu_sp__item\">\n",
      "<a class=\"top_menu_sp__link\" href=\"/themes/5cd873a786c27/\">Зала преси</a>\n",
      "</li>\n",
      "</ul>\n",
      "</nav>\n",
      "<nav class=\"block_menu\">\n",
      "<div class=\"menu_title\"><span>Теми</span></div>\n",
      "<ul class=\"top_menu_th\">\n",
      "<li class=\"top_menu_th__item\">\n",
      "<a class=\"top_menu_th__link\" href=\"/tags/babin-jar/\">Бабин Яр</a>\n",
      "</li>\n",
      "<li class=\"top_menu_th__item\">\n",
      "<a class=\"top_menu_th__link\" href=\"/tags/bandera/\">Бандера</a>\n",
      "</li>\n",
      "<li class=\"top_menu_th__item\">\n",
      "<a class=\"top_menu_th__link\" href=\"/tags/varshavskij-dogovir/\">Варшавський договір</a>\n",
      "</li>\n",
      "<li class=\"top_menu_th__item\">\n",
      "<a class=\"top_menu_th__link\" href=\"/tags/vishnevetskij/\">Вишневецький</a>\n",
      "</li>\n",
      "<li class=\"top_menu_th__item\">\n",
      "<a class=\"top_menu_th__link\" href=\"/tags/volinska-tragedija/\">Волинська трагедія</a>\n",
      "</li>\n",
      "<li class=\"top_menu_th__item\">\n",
      "<a class=\"top_menu_th__link\" href=\"/tags/golodomor/\">Голодомор</a>\n",
      "</li>\n",
      "<li class=\"top_menu_th__item\">\n",
      "<a class=\"top_menu_th__link\" href=\"/tags/golokost/\">Голокост</a>\n",
      "</li>\n",
      "<li class=\"top_menu_th__item\">\n",
      "<a class=\"top_menu_th__link\" href=\"/tags/gongadze/\">Гонгадзе</a>\n",
      "</li>\n",
      "<li class=\"top_menu_th__item\">\n",
      "<a class=\"top_menu_th__link\" href=\"/tags/den-pamjjati-ta-primirennja/\">День пам'яті та примирення</a>\n",
      "</li>\n",
      "<li class=\"top_menu_th__item\">\n",
      "<a class=\"top_menu_th__link\" href=\"/tags/den-peremogi/\">День Перемоги</a>\n",
      "</li>\n",
      "<li class=\"top_menu_th__item\">\n",
      "<a class=\"top_menu_th__link\" href=\"/tags/druga-cvitova-vijna/\">Друга cвітова війна</a>\n",
      "</li>\n",
      "<li class=\"top_menu_th__item\">\n",
      "<a class=\"top_menu_th__link\" href=\"/tags/evromajdan/\">Євромайдан</a>\n",
      "</li>\n",
      "<li class=\"top_menu_th__item\">\n",
      "<a class=\"top_menu_th__link\" href=\"/tags/kolijivschina/\">Коліївщина</a>\n",
      "</li>\n",
      "<li class=\"top_menu_th__item\">\n",
      "<a class=\"top_menu_th__link\" href=\"/tags/mazepa/\">Мазепа</a>\n",
      "</li>\n",
      "<li class=\"top_menu_th__item\">\n",
      "<a class=\"top_menu_th__link\" href=\"/tags/nebesna-sotnja/\">Небесна Сотня</a>\n",
      "</li>\n",
      "<li class=\"top_menu_th__item\">\n",
      "<a class=\"top_menu_th__link\" href=\"/tags/pavlo-skoropadskij/\">Павло Скоропадський</a>\n",
      "</li>\n",
      "<li class=\"top_menu_th__item\">\n",
      "<a class=\"top_menu_th__link\" href=\"/tags/papa-rimskij/\">Папа Римський</a>\n",
      "</li>\n",
      "<li class=\"top_menu_th__item\">\n",
      "<a class=\"top_menu_th__link\" href=\"/tags/persha-svitova-vijna/\">Перша Світова війна</a>\n",
      "</li>\n",
      "<li class=\"top_menu_th__item\">\n",
      "<a class=\"top_menu_th__link\" href=\"/tags/roman-shukhevich/\">Роман Шухевич</a>\n",
      "</li>\n",
      "<li class=\"top_menu_th__item\">\n",
      "<a class=\"top_menu_th__link\" href=\"/tags/simon-petljura/\">Симон Петлюра</a>\n",
      "</li>\n",
      "<li class=\"top_menu_th__item\">\n",
      "<a class=\"top_menu_th__link\" href=\"/tags/skoropadskij/\">Скоропадський</a>\n",
      "</li>\n",
      "<li class=\"top_menu_th__item\">\n",
      "<a class=\"top_menu_th__link\" href=\"/tags/unr/\">УНР</a>\n",
      "</li>\n",
      "<li class=\"top_menu_th__item\">\n",
      "<a class=\"top_menu_th__link\" href=\"/tags/chornobil/\">Чорнобиль</a>\n",
      "</li>\n",
      "<li class=\"top_menu_th__item\">\n",
      "<a class=\"top_menu_th__link\" href=\"/tags/chornovil/\">Чорновіл</a>\n",
      "</li>\n",
      "<li class=\"top_menu_th__item\">\n",
      "<a class=\"top_menu_th__link\" href=\"/tags/\">...</a>\n",
      "</li>\n",
      "</ul>\n",
      "</nav>\n",
      "</div>\n",
      "</div>\n",
      "<nav class=\"block block_project_menu\">\n",
      "<div class=\"menu_title\"><span>Проекти \"Української правди\"</span></div>\n",
      "<ul class=\"project_menu\">\n",
      "<li class=\"project_menu__item\">\n",
      "<a class=\"project_menu__link\" href=\"//www.pravda.com.ua\">Політика</a>\n",
      "</li>\n",
      "<li class=\"project_menu__item\">\n",
      "<a class=\"project_menu__link\" href=\"//www.epravda.com.ua\">Економіка</a>\n",
      "</li>\n",
      "<li class=\"project_menu__item\">\n",
      "<a class=\"project_menu__link\" href=\"//life.pravda.com.ua\">Життя</a>\n",
      "</li>\n",
      "<li class=\"project_menu__item\">\n",
      "<a class=\"project_menu__link\" href=\"//www.eurointegration.com.ua\">Європа</a>\n",
      "</li>\n",
      "<li class=\"project_menu__item\">\n",
      "<a class=\"project_menu__link project_menu__link_active\" href=\"//www.istpravda.com.ua\">Історична правда</a>\n",
      "</li>\n",
      "<li class=\"project_menu__item\">\n",
      "<a class=\"project_menu__link\" href=\"//forum.pravda.com.ua\">Форум</a>\n",
      "</li>\n",
      "<li class=\"project_menu__item\">\n",
      "<a class=\"project_menu__link\" href=\"//blogs.pravda.com.ua\">Блоги</a>\n",
      "</li>\n",
      "<li class=\"project_menu__item\">\n",
      "<a class=\"project_menu__link\" href=\"//tabloid.pravda.com.ua\">ТаблоID</a>\n",
      "</li>\n",
      "</ul>\n",
      "</nav>\n",
      "</nav>\n",
      "<div class=\"site-overlay\"></div>\n",
      "<div class=\"header__wrapper\">\n",
      "<div class=\"block block_project_menu_wrapper\">\n",
      "<nav class=\"block block_project_menu\">\n",
      "<ul class=\"project_menu\">\n",
      "<li class=\"project_menu__item\">\n",
      "<a class=\"project_menu__link\" href=\"//www.pravda.com.ua\">Політика</a>\n",
      "</li>\n",
      "<li class=\"project_menu__item\">\n",
      "<a class=\"project_menu__link\" href=\"//www.epravda.com.ua\">Економіка</a>\n",
      "</li>\n",
      "<li class=\"project_menu__item\">\n",
      "<a class=\"project_menu__link\" href=\"//life.pravda.com.ua\">Життя</a>\n",
      "</li>\n",
      "<li class=\"project_menu__item\">\n",
      "<a class=\"project_menu__link\" href=\"//www.eurointegration.com.ua\">Європа</a>\n",
      "</li>\n",
      "<li class=\"project_menu__item\">\n",
      "<a class=\"project_menu__link project_menu__link_active\" href=\"//www.istpravda.com.ua\">Історична правда</a>\n",
      "</li>\n",
      "<li class=\"project_menu__item\">\n",
      "<a class=\"project_menu__link\" href=\"//forum.pravda.com.ua\">Форум</a>\n",
      "</li>\n",
      "<li class=\"project_menu__item\">\n",
      "<a class=\"project_menu__link\" href=\"//blogs.pravda.com.ua\">Блоги</a>\n",
      "</li>\n",
      "<li class=\"project_menu__item\">\n",
      "<a class=\"project_menu__link\" href=\"//tabloid.pravda.com.ua\">ТаблоID</a>\n",
      "</li>\n",
      "</ul>\n",
      "</nav>\n",
      "</div>\n",
      "<header class=\"header\">\n",
      "<div class=\"layout\">\n",
      "<div class=\"header__content\">\n",
      "<div class=\"layout__inner_head\">\n",
      "<div class=\"top_all_sections\">\n",
      "<a class=\"top_menu__link modal_menu_open menu-link menu-btn-1 h--left\" onclick=\"return false;\"><span class=\"icon-menu\"></span><span class=\"options_text\">Усі розділи</span></a>\n",
      "</div>\n",
      "<div class=\"top_options\">\n",
      "<a class=\"top_options__item top_options__item_support\" href=\"/donate/\"><span class=\"options_text\">Допомогти проекту</span></a>\n",
      "</div>\n",
      "<div class=\"main_logo\">\n",
      "<script language=\"JavaScript\" type=\"text/javascript\">\n",
      "function date()\n",
      "{\n",
      "dateObj = new Date()\n",
      "var Day = new Array(\"Неділя\",\"Понеділок\",\"Вівторок\",\"Середа\",\"Четвер\",\"П'ятниця\",\"Субота\");\n",
      "var Month = new Array(\"січня\",\"лютого\",\"березня\",\"квітня\",\"травня\",\"червня\",\"липня\",\"серпня\",\"вересня\",\"жовтня\",\"листопада\",\"грудня\");\n",
      "var min = dateObj.getMinutes();\n",
      "if (min < 10) min = '0' + min;\n",
      "return Day[dateObj.getDay()] + \", \" + dateObj.getDate() + \" \" + Month[dateObj.getMonth()] + \" \" + dateObj.getFullYear() + \", \" + dateObj.getHours() + \":\" + min;\n",
      "}\n",
      "</script>\n",
      "<div class=\"main_logo__date\"><script language=\"JavaScript\" type=\"text/javascript\">document.write(date())</script></div>\n",
      "<a class=\"main_logo__link\" href=\"/\">\n",
      "<svg aria-label=\"Історична правда\" class=\"brand-svg\" fill=\"#111\" viewbox=\"0 0 414 64\" x=\"0px\" xml:space=\"preserve\" y=\"0px\">\n",
      "<title>Історична правда</title>\n",
      "<path d=\"M14.5,47.5H2V46h2.6V16.5H2V15h5.6c0.7,0,1.3,0,1.8-0.1c0.9-0.1,1.7-0.3,2.6-0.5V46h2.5V47.5 L14.5,47.5L14.5,47.5z M38.2,38.1L38.2,38.1c-1,4-2.5,6.8-4.5,8.4c-1.4,1.1-3.2,1.7-5,1.6c-3.6,0-7-1.8-9-4.9 c-2.3-3.3-3.5-7.3-3.4-11.3c0-5.3,1.4-9.7,4.2-13.1c2.4-2.9,5.2-4.4,8.2-4.4c2.2,0,4.2,0.9,5.8,2.4c2,1.8,3.1,4.3,3.1,7 c0.1,1.6-0.4,3.2-1.4,4.5c-0.7,0.8-1.7,1.3-2.8,1.3c-1.2,0-2.3-0.6-2.8-1.7c-0.7-1.2-1.1-2.5-1-3.9c0-0.8,0.3-1.7,0.8-2.3 c0.4-0.5,0.8-1,1.1-1.4c0.3-0.4,0.5-0.8,0.5-1.3c0-2-1-3-3-3c-1.5-0.2-3,0.7-3.6,2.2c-0.7,2-1,4.2-0.9,6.3V36 c-0.1,2.4,0.2,4.7,0.7,7c0.8,2.4,2.3,3.6,4.5,3.6c1.6,0,3.2-0.9,4.5-2.6c1.4-1.9,2.4-4,2.9-6.3L38.2,38.1L38.2,38.1L38.2,38.1z M63.4,28.3h-1.5c0-2.9-0.6-5.7-1.9-8.2c-1.3-2.5-2.9-3.7-4.9-3.5V46h2.5v1.5H45.2V46h2.5V16.5c-2.1,0-3.9,1.4-5.2,4.1 c-1.1,2.4-1.7,5-1.6,7.6h-1.5L39.9,15H63L63.4,28.3L63.4,28.3L63.4,28.3z M88.6,31.3L88.6,31.3c0,4.9-1.2,8.9-3.6,12.1 s-5.2,4.7-8.3,4.7c-3,0-5.8-1.5-8.2-4.6c-2.6-3.5-4-7.8-3.8-12.2c-0.1-4,1.1-8,3.3-11.4c2.4-3.7,5.3-5.5,8.7-5.5 c3.4,0,6.3,1.8,8.7,5.4C87.5,23.3,88.6,27.2,88.6,31.3L88.6,31.3L88.6,31.3z M80.5,38.1L80.5,38.1V24.5c0.1-2-0.1-4-0.5-5.9 c-0.5-1.9-2.4-3-4.3-2.5c-1.2,0.3-2.2,1.3-2.5,2.5c-0.4,1.9-0.6,3.9-0.5,5.9v13.7c0,3.5,0.3,5.7,0.9,6.8c0.6,1.1,1.7,1.7,3,1.6 c1.6,0.1,3.1-1.1,3.4-2.7C80.4,42,80.6,40.1,80.5,38.1L80.5,38.1L80.5,38.1z M117.3,31.4L117.3,31.4c0,5.2-1.3,9.4-3.8,12.5 c-2.2,2.8-4.9,4.2-7.9,4.2c-1.2,0-2.3-0.5-3.1-1.3c-1-0.9-1.7-2-2.1-3.3v18h2.5V63H90.5v-1.5H93v-45h-2.5V15h6.9 c0.4,0,0.7,0,1.1-0.1c0.6-0.1,1.3-0.3,1.9-0.5v5.2c0.3-1.3,0.9-2.5,1.9-3.4c1.3-1.2,3-1.8,4.8-1.8c3.5,0,6.2,2,8.1,6 C116.7,23.9,117.4,27.6,117.3,31.4L117.3,31.4L117.3,31.4z M109.3,35.9L109.3,35.9v-8.1c0.1-2.5-0.1-5-0.6-7.5 c-0.6-2.7-1.7-4.1-3.4-4.1c-2,0-3.4,1.9-4.2,5.7c-0.6,3.5-0.8,7-0.8,10.5v2.9c0,4.1,0.5,7,1.6,8.7c0.7,1.1,1.9,1.8,3.2,1.8 c1.1,0,2.1-0.8,2.9-2.3C108.9,41.9,109.3,39.4,109.3,35.9L109.3,35.9L109.3,35.9z M146.7,47.5h-12.1V46h2.2V21.7L129.5,45v1h2.2v1.5 h-12.1V46h2.6V16.5h-2.6V15h12.1v1.5h-2.2l0,23.7l7.3-23.1v-0.5h-2.2V15h12.1v1.5h-2.6V46h2.6L146.7,47.5L146.7,47.5L146.7,47.5z M173.2,47.5h-12.4V46h2.5V32.3c-1.2,0.8-2.5,1.5-3.9,2c-1.3,0.5-2.6,0.8-4,0.9c-1.7,0.1-3.3-0.6-4.3-2c-1-1.3-1.5-2.9-1.5-4.5V16.5 h-2.5V15h12.1v1.5H157v13.1c-0.1,0.7,0.2,1.5,0.7,2c0.5,0.4,1,0.6,1.6,0.6c0.7,0,1.3-0.2,1.9-0.6c0.7-0.3,1.4-0.7,2-1.1v-14h-2.2V15 h12.1v1.5h-2.5V46h2.5L173.2,47.5L173.2,47.5L173.2,47.5z M202.2,47.5h-12.1V46h2.2V31.2h-7.3V46h2.2v1.5h-12.1V46h2.5V16.5h-2.5V15 h12.1v1.5h-2.2v13.2h7.3V16.5h-2.2V15h12.1v1.5h-2.5V46h2.5V47.5L202.2,47.5L202.2,47.5z M230.8,44.1L230.8,44.1 c-0.7,1.2-1.7,2.3-2.9,3c-1.1,0.6-2.3,0.9-3.5,0.9c-1.3,0-2.5-0.5-3.3-1.5c-0.8-1-1.4-2.2-1.5-3.5c-0.8,1.3-1.8,2.4-3,3.3 c-1.4,1.1-3.1,1.7-4.9,1.7c-2,0.1-4-0.8-5.2-2.4c-1.3-1.8-1.9-3.9-1.9-6.1c0-3.9,1.3-6.7,4-8.4c2.4-1.5,6-2.2,10.9-2.2v-8.4 c0.1-1.3-0.3-2.6-1.1-3.6c-0.9-0.7-2-1.1-3.1-1c-0.9,0-1.9,0.1-2.7,0.5c-0.6,0.3-1,0.8-1,1.5c0,0.5,0.2,1.1,0.6,1.4 c0.4,0.5,0.7,0.8,0.9,1.1c0.2,0.3,0.4,0.6,0.5,0.9c0.4,0.7,0.5,1.4,0.5,2.1c0,1.2-0.4,2.3-1.1,3.3c-1.3,1.6-3.7,1.8-5.3,0.5 c-0.3-0.2-0.5-0.5-0.7-0.7c-0.7-1-1.1-2.2-1-3.5c0-2.2,0.9-4.2,2.5-5.6c2.1-2,5.1-3,9-3c2.2-0.1,4.4,0.3,6.4,1.2c1.9,1,3,3,2.8,5V41 c0,1,0,1.9,0.1,2.9c0,0.5,0.4,0.9,0.9,0.9c0,0,0,0,0,0c0.3,0,0.7-0.1,0.9-0.3c0.4-0.3,0.8-0.7,1.1-1.1L230.8,44.1L230.8,44.1 L230.8,44.1z M219.5,41.4L219.5,41.4V30.5c-2.9,0.2-4.9,1.3-5.9,3.1c-0.8,1.7-1.1,3.6-1,5.5c-0.1,1.4,0.1,2.9,0.5,4.3 c0.3,1,1.2,1.6,2.2,1.5c0.8,0,1.7-0.6,2.8-1.7C218.5,42.6,219,42,219.5,41.4L219.5,41.4L219.5,41.4z M272.9,47.5h-12.1V46h2.2V16.5 h-6.9V46h2.2v1.5h-12.1V46h2.5V16.5h-2.5V15h26.7v1.5h-2.5V46h2.5L272.9,47.5L272.9,47.5L272.9,47.5z M301.5,31.4L301.5,31.4 c0,5.2-1.3,9.4-3.8,12.5c-2.2,2.8-4.9,4.2-7.9,4.2c-1.2,0-2.3-0.5-3.1-1.3c-1-0.9-1.7-2-2.1-3.3v18h2.5V63h-12.4v-1.5h2.5v-45h-2.5 V15h6.9c0.4,0,0.7,0,1.1-0.1c0.6-0.1,1.3-0.3,1.9-0.5v5.2c0.3-1.3,0.9-2.5,1.9-3.4c1.3-1.2,3-1.8,4.8-1.8c3.5,0,6.2,2,8.1,6 C300.9,23.9,301.6,27.6,301.5,31.4L301.5,31.4L301.5,31.4z M293.5,35.9L293.5,35.9v-8.1c0.1-2.5-0.1-5-0.6-7.5 c-0.6-2.7-1.7-4.1-3.4-4.1c-2,0-3.4,1.9-4.2,5.7c-0.6,3.5-0.8,7-0.7,10.5v2.9c0,4.1,0.5,7,1.6,8.7c0.7,1.1,1.9,1.8,3.2,1.8 c1.1,0,2.1-0.8,2.9-2.3C293.1,41.9,293.5,39.4,293.5,35.9L293.5,35.9L293.5,35.9z M330.3,44.1L330.3,44.1c-0.7,1.2-1.7,2.3-2.9,3 c-1.1,0.6-2.3,0.9-3.5,0.9c-1.3,0-2.5-0.5-3.3-1.5c-0.8-1-1.4-2.2-1.5-3.5c-0.8,1.3-1.8,2.4-3,3.3c-1.4,1.1-3.1,1.7-4.9,1.7 c-2,0.1-4-0.8-5.2-2.4c-1.3-1.8-1.9-3.9-1.9-6.1c0-3.9,1.3-6.7,4-8.4c2.4-1.5,6-2.2,10.9-2.2v-8.4c0.1-1.3-0.3-2.6-1.1-3.6 c-0.9-0.7-2-1.1-3.1-1c-0.9,0-1.9,0.1-2.7,0.5c-0.6,0.3-1,0.8-1,1.5c0,0.5,0.2,1.1,0.6,1.4c0.4,0.5,0.7,0.8,0.9,1.1 c0.2,0.3,0.4,0.6,0.5,0.9c0.4,0.7,0.5,1.4,0.5,2.2c0,1.2-0.4,2.3-1.1,3.3c-1.3,1.6-3.7,1.8-5.3,0.5c-0.3-0.2-0.5-0.5-0.7-0.7 c-0.7-1-1.1-2.2-1-3.5c0-2.2,0.9-4.2,2.5-5.6c2.1-2,5.1-3,9-3c2.2-0.1,4.4,0.3,6.4,1.2c1.9,1,3,3,2.8,5V41c0,1,0,1.9,0.1,2.9 c0,0.5,0.4,0.9,0.9,0.9c0,0,0,0,0,0c0.3,0,0.7-0.1,0.9-0.3c0.4-0.3,0.8-0.7,1.1-1.1L330.3,44.1L330.3,44.1L330.3,44.1z M319.1,41.4 L319.1,41.4V30.5c-2.9,0.2-4.9,1.3-5.9,3.1c-0.8,1.7-1.1,3.6-1,5.5c-0.1,1.4,0.1,2.9,0.5,4.3c0.3,1,1.2,1.6,2.2,1.5 c0.8,0,1.7-0.6,2.8-1.7C318.1,42.6,318.6,42,319.1,41.4L319.1,41.4L319.1,41.4z M355.5,38.3L355.5,38.3c0.1,2.2-0.5,4.4-1.9,6.2 c-1.6,2-4.3,3-8.1,3h-14.8V46h2.5V16.5h-2.5V15h11.1c5.1,0,8.5,0.6,10.1,1.9c1.4,1.1,2.2,2.8,2.2,5.2c0.1,1.8-0.6,3.5-1.8,4.8 c-1.7,1.3-3.7,2.3-5.8,2.7c2.2,0.6,4.3,1.6,6.2,2.9C354.5,33.9,355.5,36.1,355.5,38.3L355.5,38.3L355.5,38.3z M346.7,23.6 L346.7,23.6v-2.2c0-2.2-0.5-3.7-1.5-4.4c-0.8-0.4-1.6-0.6-2.5-0.5h-2.1v12.4h2.2c1,0.1,2-0.2,2.7-0.9 C346.3,27.2,346.7,25.7,346.7,23.6L346.7,23.6L346.7,23.6z M347.4,39.9L347.4,39.9v-2.8c0.1-1.4-0.1-2.9-0.5-4.2 c-0.5-1.5-1.9-2.5-3.5-2.5h-2.7V46h3.5c0.8,0,1.6-0.4,2.1-1C347,44,347.4,42.3,347.4,39.9L347.4,39.9L347.4,39.9z M383.3,59.2h-1.5 c-0.1-2.5-0.8-5-1.9-7.3c-1.5-2.9-3.6-4.4-6.2-4.4h-7.2c-1.7-0.1-3.3,0.6-4.4,1.8c-1.8,1.9-3.1,5.2-3.7,9.9H357V46 c1.6,0.2,3.3-0.4,4.3-1.7c0.8-1.1,1.3-2.3,1.5-3.6c0.2-1.5,0.5-4.3,0.7-8.5c0.2-4.2,0.3-8,0.3-11.4c0-1.7-0.2-2.9-0.7-3.4 c-0.5-0.6-1.3-0.9-2.1-0.8h-0.7V15H382v1.5h-2.6V46h4L383.3,59.2L383.3,59.2L383.3,59.2z M372,46L372,46V16.5h-4.5 c-0.6-0.1-1.1,0.2-1.5,0.6c-0.6,1.1-0.9,2.4-0.8,3.6v5.9c0.1,4.4-0.1,8.9-0.5,13.3c-0.3,2.2-1.3,4.3-2.7,6H372z M411,44.1L411,44.1 c-0.7,1.2-1.7,2.3-2.9,3c-1.1,0.6-2.3,0.9-3.5,0.9c-1.3,0-2.5-0.5-3.3-1.5c-0.8-1-1.4-2.2-1.5-3.5c-0.8,1.3-1.8,2.4-3,3.3 c-1.4,1.1-3.1,1.7-4.9,1.7c-2,0.1-4-0.8-5.2-2.4c-1.3-1.8-1.9-3.9-1.9-6.1c0-3.9,1.3-6.7,4-8.4c2.4-1.5,6-2.2,10.9-2.2v-8.4 c0-1.7-0.4-2.9-1.1-3.6c-0.9-0.7-2-1.1-3.1-1c-0.9,0-1.9,0.1-2.7,0.5c-0.6,0.3-1,0.8-1,1.5c0,0.5,0.2,1.1,0.6,1.4 c0.4,0.5,0.7,0.8,0.9,1.1c0.2,0.3,0.4,0.6,0.5,0.9c0.4,0.7,0.5,1.4,0.5,2.2c0,1.2-0.4,2.3-1.1,3.3c-1.3,1.6-3.7,1.8-5.3,0.5 c-0.3-0.2-0.5-0.5-0.7-0.7c-0.7-1-1-2.2-1-3.5c0-2.2,0.9-4.2,2.5-5.6c2.1-2,5.1-3,9-3c2.2-0.1,4.4,0.3,6.4,1.2c1.9,1,3,3,2.8,5V41 c0,1,0,1.9,0.1,2.9c0,0.5,0.4,0.9,0.9,0.9c0,0,0,0,0,0c0.3,0,0.7-0.1,0.9-0.3c0.4-0.3,0.8-0.7,1.1-1.1L411,44.1L411,44.1L411,44.1z M399.8,41.4L399.8,41.4V30.5c-2.9,0.2-4.9,1.3-5.9,3.1c-0.8,1.7-1.1,3.6-1,5.5c-0.1,1.4,0.1,2.9,0.5,4.3c0.3,1,1.2,1.6,2.2,1.5 c0.7,0,1.7-0.6,2.8-1.7C398.8,42.6,399.3,42,399.8,41.4L399.8,41.4z M8.2,1c2.2,0,4,1.8,4,4s-1.8,4-4,4c-2.2,0-4-1.8-4-4 c0,0,0,0,0,0C4.2,2.8,6,1,8.2,1z\"></path>\n",
      "</svg></a></div></div></div></div></header></div></body></html>\n",
      "\n",
      "\n",
      "\n",
      "\n",
      "\n",
      "<nav class=\"block block_menu\">\n",
      "<ul class=\"top_menu\">\n",
      "<li class=\"top_menu__item\">\n",
      "<a class=\"top_menu__link\" href=\"/articles/\">Тексти</a>\n",
      "</li>\n",
      "<li class=\"top_menu__item\">\n",
      "<a class=\"top_menu__link\" href=\"/short/\">Коротко</a>\n",
      "</li>\n",
      "<li class=\"top_menu__item\">\n",
      "<a class=\"top_menu__link\" href=\"/reviews/\">Книжки</a>\n",
      "</li>\n",
      "<li class=\"top_menu__item\">\n",
      "<a class=\"top_menu__link\" href=\"/columns/\">Колонки</a>\n",
      "</li>\n",
      "<li class=\"top_menu__item\">\n",
      "<a class=\"top_menu__link\" href=\"/digest/\">Дайджест</a>\n",
      "</li>\n",
      "<li class=\"top_menu__item\">\n",
      "<a class=\"top_menu__link\" href=\"/artefacts/\">Артефакти</a>\n",
      "</li>\n",
      "<li class=\"top_menu__item\">\n",
      "<a class=\"top_menu__link\" href=\"/international/\">International</a>\n",
      "</li>\n",
      "<li class=\"top_menu__item\">\n",
      "<a class=\"top_menu__link\" href=\"/interviews/\">Інтерв'ю</a>\n",
      "</li>\n",
      "</ul>\n",
      "</nav>\n",
      "<nav class=\"block block_menu_special\">\n",
      "<ul class=\"top_menu_sp\">\n",
      "<li class=\"top_menu_sp__item\">\n",
      "<a class=\"top_menu_sp__link top_menu_sp__link_selected\" href=\"/themes/\">Спецпроекти</a>\n",
      "</li>\n",
      "<li class=\"top_menu_sp__item top_menu_sp__spacer\">\n",
      "</li>\n",
      "<li class=\"top_menu_sp__item\">\n",
      "<a class=\"top_menu_sp__link\" href=\"/themes/4e675cd3e7673/\"></a>\n",
      "</li>\n",
      "<li class=\"top_menu_sp__item\">\n",
      "<a class=\"top_menu_sp__link\" href=\"/themes/museum/\">Музей</a>\n",
      "</li>\n",
      "<li class=\"top_menu_sp__item\">\n",
      "<a class=\"top_menu_sp__link\" href=\"/themes/holodomor/\">Голодомор</a>\n",
      "</li>\n",
      "<li class=\"top_menu_sp__item\">\n",
      "<a class=\"top_menu_sp__link\" href=\"/themes/katyn/\">Катинь</a>\n",
      "</li>\n",
      "<li class=\"top_menu_sp__item\">\n",
      "<a class=\"top_menu_sp__link\" href=\"/themes/volyn1943/\">Волинь 1943</a>\n",
      "</li>\n",
      "<li class=\"top_menu_sp__item\">\n",
      "<a class=\"top_menu_sp__link\" href=\"/themes/reform500/\">Реформація</a>\n",
      "</li>\n",
      "<li class=\"top_menu_sp__item\">\n",
      "<a class=\"top_menu_sp__link\" href=\"/themes/uje/\">Шалом!</a>\n",
      "</li>\n",
      "<li class=\"top_menu_sp__item\">\n",
      "<a class=\"top_menu_sp__link\" href=\"/themes/canadiana/\">Канадіана</a>\n",
      "</li>\n",
      "<li class=\"top_menu_sp__item\">\n",
      "<a class=\"top_menu_sp__link\" href=\"/themes/rev100/\">Революція 100</a>\n",
      "</li>\n",
      "<li class=\"top_menu_sp__item\">\n",
      "<a class=\"top_menu_sp__link\" href=\"/themes/ww2/\">Революція 100</a>\n",
      "</li>\n",
      "<li class=\"top_menu_sp__item\">\n",
      "<a class=\"top_menu_sp__link\" href=\"/themes/holocaust-history/\">Голокост</a>\n",
      "</li>\n",
      "<li class=\"top_menu_sp__item\">\n",
      "<a class=\"top_menu_sp__link\" href=\"/themes/5cd873a786c27/\">Зала преси</a>\n",
      "</li>\n",
      "</ul>\n",
      "</nav>\n",
      "\n",
      "\n",
      "\n",
      "<div class=\"unit_middle-banner\">\n",
      "<!--  AdRiver code START. Type:AjaxJS Site: istpravda SZ: istpravda970main  BN:2 -->\n",
      "<div id=\"adriver_banner_498982794\"></div>\n",
      "<script type=\"text/javascript\">\n",
      "new adriver(\"adriver_banner_498982794\", {sid:220774, bt:52, sz:'istpravda970main', bn:2});\n",
      "</script>\n",
      "</div>\n",
      "<div class=\"layout layout_main\">\n",
      "<div class=\"main_content\">\n",
      "<div class=\"block_top\"> <div class=\"block_top__wrapper\"> <div class=\"block_top__content\"> <div class=\"block_top_l\"> <div class=\"article article_top\"> <div class=\"article__img\"> <a class=\"article__img_link\" href=\"/articles/2019/07/29/156021/\"><img alt=\"\" src=\"/images/doc/a/9/a9178ce-b99cdf7-142.jpg\"/></a> </div> <h3 class=\"article__title\"><a href=\"/articles/2019/07/29/156021/\">Бомби, облави, містика. Львів напередодні вигнання нацистів</a></h3> <div class=\"article__subtitle\">\"Людей опанувало шаленство молитви. На подвір'ях вибудовували маленькі вівтарці, повсюди були квіти, свічки, релігійні пісні. І ми у нашій \"кімнатці навкарачки\" зробили собі маленький вівтарик і цілими днями молилися. Чотки, новенни, рорати, релігійні піснеспіви, святі іконки; то тривало годинами, більше того, цілими днями. Навіть як на дитину, охрещену три і пів рази, було того всього трохи забагато...\".</div> <div class=\"article__date\">29 липня 2019 — Олеся Ісаюк</div> </div> <div class=\"article article_top\"> <div class=\"article__img\"> <a class=\"article__img_link\" href=\"/articles/2019/07/24/156001/\"><img alt=\"\" src=\"/images/doc/9/8/988636a-660.jpg\"/></a> </div> <h3 class=\"article__title\"><a href=\"/articles/2019/07/24/156001/\">Олег Штуль. Забутий провідник мельниківської ОУН</a></h3> <div class=\"article__subtitle\">\"Нехай сьогодні ми пишемо найсумніші речі – спогади. Але боротьба триває. І вона триватиме аж до перемоги. Чи ми її побачимо? Чи скоро? Це для історії мало важить. Але побачить її Київ – Золотоверхий наш натхненник. І коли не зустріне нас, то кращих від нас\", – писав Олег Штуль у 1962 році.</div> <div class=\"article__date\">24 липня 2019 — Богдан Зек</div> </div> </div> <div class=\"block_top_c\"> <div class=\"article article_top_c\"> <div class=\"article__img\"> <a class=\"article__img_link\" href=\"/articles/2019/08/5/156054/\"><img alt=\"\" src=\"/images/doc/a/f/af738aa-599.jpg\"/></a> </div> <h3 class=\"article__title\"><a href=\"/articles/2019/08/5/156054/\">Список розстріляних українців у Сандармоху</a></h3> <div class=\"article__subtitle\">5 серпня 1937 року вступила в дію постанова Політбюро ЦК ВКП(б) «Про антирадянські елементи». Розпочалася наймасовіша за всю радянську епоху «чистка» суспільства від реальних та потенційних опонентів владі, від елементів, які «не годилися для будівництва комунізму». Теоретичне обґрунтування цих заходів здійснив новий нарком НКВД Ніколай Єжов, а вдосконалив особисто Сталін.</div> <div class=\"article__date\">5 серпня 2019 — Сергій Шевченко</div> <div class=\"article__tags\"> <a href=\"/tags/sandarmokh/\">Сандармох</a><a href=\"/tags/teror/\">терор</a><a href=\"/tags/rozstrili/\">розстріли</a><a href=\"/tags/politjvjazni/\">політ'вязні</a><a href=\"/tags/rozstriljane-vidrodzhennja/\">Розстріляне відродження</a> </div> </div> </div> <div class=\"block_top_r\"> <div class=\"300_banner\"> <div class=\"unit_side-banner\"> <script charset=\"utf-8\" type=\"text/javascript\"><!--<![CDATA[\n",
      "/* istpravda.com.ua main 300x250 -- size: 300x250 */\n",
      "document.write(unescape('%3C')+'script src=\"https://adnet.pravda.com/scripts/140jzf8f171pympg.js?'+Date.now()+'\" type=\"text/javascript\"'+unescape('%3E%3C')+'/script'+unescape('%3E'))\n",
      "//]]>--></script> </div> </div> <div class=\"article article_top\"> <div class=\"article__img\"> <a class=\"article__img_link\" href=\"/columns/2019/07/10/155927/\"><img alt=\"\" src=\"/images/doc/0/d/0dcabc1-001-38-300.jpg\"/></a> </div> <h3 class=\"article__title\"><a href=\"/columns/2019/07/10/155927/\">Як Хрущов убив Донця. І потім збрехав</a></h3> <div class=\"article__subtitle\">«Заарештували його, керуючись тими мотивами, що, мовляв, німці знають про його політичні, антирадянські погляди і після захоплення Києва можуть його використати. Щоб не давати ворогу такої можливості, його і заарештували, і незабаром він… помер». Хрущов збрехав.</div> <div class=\"article__date\">10 липня 2019 — Олександр Зінченко</div> </div> </div> </div> </div> </div>\n",
      "<div class=\"block_news_top block_news_middle\"> <div class=\"block_news_top__wrapper\"> <div class=\"block_header_small\"><a href=\"/short/\">Коротко</a></div> <div class=\"block_news_top__content\"> <div class=\"article article_news\"> <div class=\"article__date\">6 серпня, 14:41</div> <h4 class=\"article__title\"><a href=\"/short/2019/08/6/156059/\">У Єгипті вперше відреставрують саркофаг фараона Тутанхамона</a></h4> </div> <div class=\"article article_news\"> <div class=\"article__date\">6 серпня, 14:17</div> <h4 class=\"article__title\"><a href=\"/short/2019/08/6/156058/\">Національна комісія з реабілітації визнала п’ятьох осіб реабілітованими</a></h4> </div> <div class=\"article article_news\"> <div class=\"article__date\">6 серпня, 13:05</div> <h4 class=\"article__title\"><a href=\"/short/2019/08/6/156057/\">Дослідники показали знахідки зі столиці скіфів. ВІДЕО</a></h4> </div> <div class=\"article article_news\"> <div class=\"article__date\">6 серпня, 11:51</div> <h4 class=\"article__title\"><a href=\"/short/2019/08/6/156056/\">Україна та США домовилися співпрацювати у пошуку військовополонених</a></h4> </div> </div> <div class=\"more_block\"> <a class=\"more_block__link\" href=\"/short/\">Всі новини</a> </div> </div> </div>\n",
      "<div class=\"block_artifacts\"> <div class=\"block_artifacts__wrapper\"> <div class=\"block_header_small\"><a href=\"/artefacts/\">Артефакти</a></div> <div class=\"block_artifacts__content\"> <div class=\"article article_artifacts\"> <div class=\"article__img\"> <a class=\"article__img_link\" href=\"/artefacts/2019/08/5/156052/\"> <img alt=\"\" height=\"400\" src=\"/images/doc/4/c/4c4965d-290.jpg\" width=\"300\"/> </a> </div> <h4 class=\"article__title\"><a href=\"/artefacts/2019/08/5/156052/\">Як міг виглядати Музей із Левами</a></h4> </div> <div class=\"article article_artifacts\"> <div class=\"article__img\"> <a class=\"article__img_link\" href=\"/artefacts/2012/12/19/104047/\"> <img alt=\"\" height=\"400\" src=\"/images/doc/1/1/11e7f98-9ccc7de-1.jpg\" width=\"300\"/> </a> </div> <h4 class=\"article__title\"><a href=\"/artefacts/2012/12/19/104047/\">\"Гобіт\" - перший переклад Толкіна в Україні</a></h4> </div> <div class=\"article article_artifacts\"> <div class=\"article__img\"> <a class=\"article__img_link\" href=\"/artefacts/2012/12/24/104935/\"> <img alt=\"\" height=\"400\" src=\"/images/doc/d/5/d539873-170d936-last.jpg\" width=\"300\"/> </a> </div> <h4 class=\"article__title\"><a href=\"/artefacts/2012/12/24/104935/\">Вся історія Newsweek: від Гітлера до Цукерберга</a></h4> </div> <div class=\"article article_artifacts\"> <div class=\"article__img\"> <a class=\"article__img_link\" href=\"/artefacts/2019/01/10/153506/\"> <img alt=\"\" height=\"400\" src=\"/images/doc/4/6/467bc27-2496921-xl.jpg\" width=\"300\"/> </a> </div> <h4 class=\"article__title\"><a href=\"/artefacts/2019/01/10/153506/\">Волинь на малюнках Ернста Унграда</a></h4> </div> </div> </div> </div>\n",
      "<div class=\"unit_middle-banner\">\n",
      "<script async=\"\" src=\"//pagead2.googlesyndication.com/pagead/js/adsbygoogle.js\"></script>\n",
      "<ins class=\"adsbygoogle\" data-ad-client=\"ca-pub-4177955927398446\" data-ad-format=\"fluid\" data-ad-layout=\"in-article\" data-ad-slot=\"5730082482\" style=\"display:block; text-align:center;\"></ins>\n",
      "<script>\n",
      "     (adsbygoogle = window.adsbygoogle || []).push({});\n",
      "</script>\n",
      "</div>\n",
      "<div class=\"block_column\"> <div class=\"block_column__wrapper\"> <div class=\"block_header_small\"><a href=\"/columns/\">Колонки</a></div> <div class=\"block_column__content\"> <div class=\"article article_column\"> <div class=\"article__img\"> <a class=\"article__img_link\" href=\"/columns/2019/07/10/155927/\"><img alt=\"\" height=\"170\" src=\"/images/doc/a/c/ac76e7e-zinchenko-170.jpg\" width=\"170\"/></a> </div> <h3 class=\"article__title\"><a href=\"/columns/2019/07/10/155927/\"><span>Олександр Зінченко:</span> Як Хрущов убив Донця. І потім збрехав</a></h3> <div class=\"article__subtitle\">«Заарештували його, керуючись тими мотивами, що, мовляв, німці знають про його політичні, антирадянські погляди і після захоплення Києва можуть його використати. Щоб не давати ворогу такої можливості, його і заарештували, і незабаром він… помер». Хрущов збрехав.</div> <div class=\"article__date\">10 липня 2019</div> </div> <div class=\"article article_column\"> <div class=\"article__img\"> <a class=\"article__img_link\" href=\"/columns/2019/07/13/155960/\"><img alt=\"\" height=\"170\" src=\"/images/doc/9/f/9f08759-46965825-2083486011711882-3130512060446670848-n.jpg\" width=\"170\"/></a> </div> <h3 class=\"article__title\"><a href=\"/columns/2019/07/13/155960/\"><span>Остап Українець:</span> Матюки не роблять з тебе москаля. Чи роблять?</a></h3> <div class=\"article__subtitle\">Слова \"*бати\", \"пи*да\" та \"бл*дь\" фіксуються як нормативні форми від берестяних грамот ХІІ століття до деяких серйозних літературних пам'яток , а всі вони разом із \"х*єм\" присутні щонайменше у наддніпрянському фольклорі та зафіксовані ще у середині ХІХ століття.</div> <div class=\"article__date\">13 липня 2019</div> </div> <div class=\"article article_column\"> <div class=\"article__img\"> <a class=\"article__img_link\" href=\"/columns/2019/06/26/155879/\"><img alt=\"\" height=\"170\" src=\"/images/doc/d/0/d06698c-135.jpg\" width=\"170\"/></a> </div> <h3 class=\"article__title\"><a href=\"/columns/2019/06/26/155879/\"><span>Лілія Чорна:</span> Чому Вернадський? Візіонер, вчений і українець</a></h3> <div class=\"article__subtitle\">Сьогодні Володимира Вернадського порівнюють із вченими міжнародного масштабу, яким вдалося не лише зробити внесок у наукову думку, а й змінити її напрямок – із Ісааком Ньютоном, Чарльзом Дарвіном та Альбертом Ейнштейном.</div> <div class=\"article__date\">26 червня 2019</div> </div> <div class=\"article article_column\"> <div class=\"article__img\"> <a class=\"article__img_link\" href=\"/columns/2019/06/21/155856/\"><img alt=\"\" height=\"170\" src=\"/images/doc/4/c/4cac5c5-135.jpg\" width=\"170\"/></a> </div> <h3 class=\"article__title\"><a href=\"/columns/2019/06/21/155856/\"><span>Олег Кошла:</span> \"Нашому великому ворогові\". Історія Червоного барона</a></h3> <div class=\"article__subtitle\">Як за два роки стати з звичайного кавалериста легендою авіації, або як прожити так, щоб тебе з почестями та надписами \"Нашому великому ворогові\" ховали супротивники.</div> <div class=\"article__date\">21 червня 2019</div> </div> </div> </div> <div class=\"more_block\"> <a class=\"more_block__link\" href=\"/columns/\">Всі колонки</a> </div> </div>\n",
      "<div class=\"block_texts\"> <div class=\"block_texts__wrapper\"> <div class=\"block_header_small\"><a href=\"/articles/\">Тексти</a></div> <div class=\"block_texts__content\"> <div class=\"article article_texts\"> <div class=\"article__img\"> <a class=\"article__img_link\" href=\"/articles/2019/08/5/156054/\"> <img alt=\"\" src=\"/images/doc/9/4/946a37f-300.jpg\"/></a> </div> <h3 class=\"article__title\"><a href=\"/articles/2019/08/5/156054/\">Список розстріляних українців у Сандармоху</a></h3> <div class=\"article__subtitle\">5 серпня 1937 року вступила в дію постанова Політбюро ЦК ВКП(б) «Про антирадянські елементи». Розпочалася наймасовіша за всю радянську епоху «чистка» суспільства від реальних та потенційних опонентів владі, від елементів, які «не годилися для будівництва комунізму». Теоретичне обґрунтування цих заходів здійснив новий нарком НКВД Ніколай Єжов, а вдосконалив особисто Сталін.</div> <div class=\"article__date\">5 серпня 2019 — Сергій Шевченко</div> </div> <div class=\"article article_texts\"> <div class=\"article__img\"> <a class=\"article__img_link\" href=\"/articles/2019/07/29/156021/\"> <img alt=\"\" src=\"/images/doc/a/9/a9178ce-b99cdf7-142.jpg\"/></a> </div> <h3 class=\"article__title\"><a href=\"/articles/2019/07/29/156021/\">Бомби, облави, містика. Львів напередодні вигнання нацистів</a></h3> <div class=\"article__subtitle\">\"Людей опанувало шаленство молитви. На подвір'ях вибудовували маленькі вівтарці, повсюди були квіти, свічки, релігійні пісні. І ми у нашій \"кімнатці навкарачки\" зробили собі маленький вівтарик і цілими днями молилися. Чотки, новенни, рорати, релігійні піснеспіви, святі іконки; то тривало годинами, більше того, цілими днями. Навіть як на дитину, охрещену три і пів рази, було того всього трохи забагато...\".</div> <div class=\"article__date\">29 липня 2019 — Олеся Ісаюк</div> </div> <div class=\"article article_texts\"> <div class=\"article__img\"> <a class=\"article__img_link\" href=\"/articles/2019/07/24/156001/\"> <img alt=\"\" src=\"/images/doc/9/8/988636a-660.jpg\"/></a> </div> <h3 class=\"article__title\"><a href=\"/articles/2019/07/24/156001/\">Олег Штуль. Забутий провідник мельниківської ОУН</a></h3> <div class=\"article__subtitle\">\"Нехай сьогодні ми пишемо найсумніші речі – спогади. Але боротьба триває. І вона триватиме аж до перемоги. Чи ми її побачимо? Чи скоро? Це для історії мало важить. Але побачить її Київ – Золотоверхий наш натхненник. І коли не зустріне нас, то кращих від нас\", – писав Олег Штуль у 1962 році.</div> <div class=\"article__date\">24 липня 2019 — Богдан Зек</div> </div> <div class=\"article article_texts\"> <div class=\"article__img\"> <a class=\"article__img_link\" href=\"/articles/2019/07/23/155994/\"> <img alt=\"\" src=\"/images/doc/8/e/8e9e00e-1111.jpg\"/></a> </div> <h3 class=\"article__title\"><a href=\"/articles/2019/07/23/155994/\">Вербиця. Історія одного села із Закерзоння</a></h3> <div class=\"article__subtitle\">Історія села Вербиця може послугувати добрим прикладом для дослідження локальної історії в регіоні Надсяння. Протягом першої половини ХХ ст. воно зазнало типової для цієї місцевості долі – від активного розвитку у сусідстві з представниками інших національностей у міжвоєнний період до депортацій, знищення єврейської громади та спустошення під час та після Другої світової війни.</div> <div class=\"article__date\">23 липня 2019 — Микола Гаєвой</div> </div> </div> </div> <div class=\"more_block\"> <a class=\"more_block__link\" href=\"/articles/\">Всі тексти «Історичної правди»</a> </div> </div>\n",
      "<div class=\"block_interview\"> <div class=\"block_interview__wrapper\"> <div class=\"block_header_small\"><a href=\"/interviews/\">Інтерв'ю</a></div> <div class=\"block_interview__content\"> <div class=\"block_interview_l\"> <div class=\"article article_interview_top\"> <div class=\"article__img\"> <a class=\"article__img_link\" href=\"/articles/2019/06/27/155891/\"><img alt=\"\" height=\"354\" src=\"/images/doc/c/8/c8d70fa-599.png\" width=\"574\"/></a> </div> <div class=\"article__content\"> <h3 class=\"article__title\"><a href=\"/articles/2019/06/27/155891/\">Оля Гнатюк: “Пам’ятати про минуле, але думати про майбутнє”</a></h3> <div class=\"article__subtitle\">Сам метафоричний вислів “адвокат України” мені ніколи не подобався. Коли йдеться про речника інтересів, то Україна мала б сама їх представляти. Одне не підлягає сумніву, що між Польщею та Україною склалися особливо дружні відносини, що була підтримка, іноді навіть підтримка беззастережна, до якої українські політики звикли як до чогось самоочевидного.</div> <div class=\"article__date\">27 червня 2019 — Володимир Молодій</div> </div> </div> </div> <div class=\"block_interview_r\"> <div class=\"article article_interview_sm\"> <div class=\"article__title\"><a href=\"/articles/2019/04/5/153934/\">«Мій коханий залишився на «гражданці». Сподіваюсь, що дочекається…»</a></div> <div class=\"article__date\">5 квітня 2019 — Євгенія Подобна</div> </div> <div class=\"article article_interview_sm\"> <div class=\"article__title\"><a href=\"/articles/2018/11/13/153267/\">Малкольм Маґґерідж і голод в Україні 1932-1933 років</a></div> <div class=\"article__date\">13 листопада 2018 — Богдан Нагайло</div> </div> <div class=\"article article_interview_sm\"> <div class=\"article__title\"><a href=\"/articles/2018/10/20/153114/\">Володимир В’ятрович: “Польські політики ще не зрозуміли, що Україна змінилася”</a></div> <div class=\"article__date\">20 жовтня 2018 — Мирослава Іваник</div> </div> </div> </div> </div> </div>\n",
      "<div class=\"unit_middle-banner\">\n",
      "<script async=\"\" src=\"//pagead2.googlesyndication.com/pagead/js/adsbygoogle.js\"></script>\n",
      "<ins class=\"adsbygoogle\" data-ad-client=\"ca-pub-4177955927398446\" data-ad-format=\"fluid\" data-ad-layout=\"in-article\" data-ad-slot=\"5730082482\" style=\"display:block; text-align:center;\"></ins>\n",
      "<script>\n",
      "     (adsbygoogle = window.adsbygoogle || []).push({});\n",
      "</script>\n",
      "</div>\n",
      "<div class=\"block_calendar\"> <div class=\"block_calendar__wrapper\"> <div class=\"block_header_small\"><a href=\"/dates/\">Календар</a></div> <div class=\"block_calendar__title\"><a href=\"/dates/2019/08/7/49772/\">7 серпня в історії</a></div> <div class=\"block_calendar__content\"> <div class=\"article article_calendar\"> <div class=\"article__date\">1819</div> <div class=\"article__title\">Народився <b>Пантелеймон Куліш</b>, український письменник, громадський діяч</div></div></div></div></div></div></div><p></p>  <div class=\"article article_calendar\"> <div class=\"article__date\">1932</div> <div class=\"article__title\">У СРСР за крадіжку державної й колективної власності запроваджена смертна кара - <b>\"закон про три колоски\"</b></div></div><p></p>  <div class=\"article article_calendar\"> <div class=\"article__date\">1947</div> <div class=\"article__title\">Норвезький мандрівник <b>Тур Хейєрдал</b> із п'ятьма супутниками на бальсовому плоті \"Кон-Тікі\" досяг островів Туамоту в Полінезії, стартувавши з Південної Америки</div></div><p></p>  <div class=\"article article_calendar\"> <div class=\"article__date\">1959</div> <div class=\"article__title\">Американський супутник уперше передав на Землю її <b>зображення з космосу</b></div></div><p></p>  <div class=\"article article_calendar\"> <div class=\"article__date\"></div> <div class=\"article__title\"></div> </div>  <div class=\"more_block\"> <a class=\"more_block__link\" href=\"/dates/2019/08/7/49772/\">Всі події за цю дату</a> </div>  \n",
      "<div class=\"block_tags\"> <div class=\"block_tags__wrapper\"> <div class=\"block_header_small\"><a href=\"/tags/\">Теми</a></div> <div class=\"block_tags__content\"> <ul class=\"top_menu_th\"> <li class=\"top_menu_th__item\"> <a class=\"top_menu_th__link\" href=\"/tags/babin-jar/\">Бабин Яр</a> </li> <li class=\"top_menu_th__item\"> <a class=\"top_menu_th__link\" href=\"/tags/bandera/\">Бандера</a> </li> <li class=\"top_menu_th__item\"> <a class=\"top_menu_th__link\" href=\"/tags/varshavskij-dogovir/\">Варшавський договір</a> </li> <li class=\"top_menu_th__item\"> <a class=\"top_menu_th__link\" href=\"/tags/vishnevetskij/\">Вишневецький</a> </li> <li class=\"top_menu_th__item\"> <a class=\"top_menu_th__link\" href=\"/tags/volinska-tragedija/\">Волинська трагедія</a> </li> <li class=\"top_menu_th__item\"> <a class=\"top_menu_th__link\" href=\"/tags/golodomor/\">Голодомор</a> </li> <li class=\"top_menu_th__item\"> <a class=\"top_menu_th__link\" href=\"/tags/golokost/\">Голокост</a> </li> <li class=\"top_menu_th__item\"> <a class=\"top_menu_th__link\" href=\"/tags/gongadze/\">Гонгадзе</a> </li> <li class=\"top_menu_th__item\"> <a class=\"top_menu_th__link\" href=\"/tags/den-pamjjati-ta-primirennja/\">День пам'яті та примирення</a> </li> <li class=\"top_menu_th__item\"> <a class=\"top_menu_th__link\" href=\"/tags/den-peremogi/\">День Перемоги</a> </li> <li class=\"top_menu_th__item\"> <a class=\"top_menu_th__link\" href=\"/tags/druga-cvitova-vijna/\">Друга cвітова війна</a> </li> <li class=\"top_menu_th__item\"> <a class=\"top_menu_th__link\" href=\"/tags/evromajdan/\">Євромайдан</a> </li> <li class=\"top_menu_th__item\"> <a class=\"top_menu_th__link\" href=\"/tags/kolijivschina/\">Коліївщина</a> </li> <li class=\"top_menu_th__item\"> <a class=\"top_menu_th__link\" href=\"/tags/mazepa/\">Мазепа</a> </li> <li class=\"top_menu_th__item\"> <a class=\"top_menu_th__link\" href=\"/tags/nebesna-sotnja/\">Небесна Сотня</a> </li> <li class=\"top_menu_th__item\"> <a class=\"top_menu_th__link\" href=\"/tags/pavlo-skoropadskij/\">Павло Скоропадський</a> </li> <li class=\"top_menu_th__item\"> <a class=\"top_menu_th__link\" href=\"/tags/papa-rimskij/\">Папа Римський</a> </li> <li class=\"top_menu_th__item\"> <a class=\"top_menu_th__link\" href=\"/tags/persha-svitova-vijna/\">Перша Світова війна</a> </li> <li class=\"top_menu_th__item\"> <a class=\"top_menu_th__link\" href=\"/tags/roman-shukhevich/\">Роман Шухевич</a> </li> <li class=\"top_menu_th__item\"> <a class=\"top_menu_th__link\" href=\"/tags/simon-petljura/\">Симон Петлюра</a> </li> <li class=\"top_menu_th__item\"> <a class=\"top_menu_th__link\" href=\"/tags/skoropadskij/\">Скоропадський</a> </li> <li class=\"top_menu_th__item\"> <a class=\"top_menu_th__link\" href=\"/tags/unr/\">УНР</a> </li> <li class=\"top_menu_th__item\"> <a class=\"top_menu_th__link\" href=\"/tags/chornobil/\">Чорнобиль</a> </li> <li class=\"top_menu_th__item\"> <a class=\"top_menu_th__link\" href=\"/tags/chornovil/\">Чорновіл</a> </li> <li class=\"top_menu_th__item\"> <a class=\"top_menu_th__link\" href=\"/tags/\">...</a> </li> </ul> </div> </div> </div>\n",
      "<div class=\"block_projects_banner\"> <div class=\"block_projects_banner__cover\" style=\"background-image: url(/images/doc/f/7/f7df14a-special-bg.jpg);\"> <div class=\"block_projects_banner__suptitle\">Спецпроект</div> <div class=\"block_projects_banner__title\"> <a href=\"/themes/holodomor/\">Голодомор 1932-1933</a> </div> <div class=\"block_projects_banner__article\"><a href=\"/themes/holodomor/\">Сталін як Путін. Голодомор – реакція на мільйонний селянський «Майдан» початку 1930-х</a></div> </div> </div>\n",
      "<div class=\"block_middle\">\n",
      "<div class=\"block_middle__wrapper\">\n",
      "<div class=\"block_middle__content\">\n",
      "<div class=\"block_middle_l\">\n",
      "<div class=\"block_header_small\"><a href=\"/videos/\">Відео</a></div>\n",
      "<div class=\"article article_video_top\">\n",
      "<div class=\"article__img\">\n",
      "<a class=\"article__img_link\" href=\"/videos/2019/07/9/155933/\">\n",
      "<div class=\"article__video_sign\"></div>\n",
      "<img alt=\"\" height=\"354\" src=\"/images/doc/c/2/c212e3e-66103826-2759867537373986-140508669677666304-599.jpg\" width=\"574\"/>\n",
      "</a>\n",
      "</div>\n",
      "<div class=\"article__content\">\n",
      "<h3 class=\"article__title\"><a href=\"/videos/2019/07/9/155933/\">2018: Останній парад Незалежності?</a></h3>\n",
      "<div class=\"article__subtitle\">В історії України вже була спроба скасувати Парад Незалежності. Історія повторюється. Тому пропонуємо пригадати, як відбувся - можливо - останній Парад Незалежності.</div>\n",
      "<div class=\"article__date\">9 липня 2019</div>\n",
      "</div>\n",
      "</div>\n",
      "<div class=\"block_video_sm\">\n",
      "<div class=\"article article_video_sm\">\n",
      "<div class=\"article__title\"><a href=\"/videos/2014/07/16/143740/\">2013: Телевізійна \"Істправда\" про Волинську трагедію</a></div>\n",
      "<div class=\"article__date\">16 липня 2014</div>\n",
      "</div>\n",
      "<div class=\"article article_video_sm\">\n",
      "<div class=\"article__title\"><a href=\"/videos/2018/10/21/153117/\">1933: Атентат Миколи Лемика на представника радянського консула у Львові</a></div>\n",
      "<div class=\"article__date\">21 жовтня 2018 — Вахтанг Кіпіані</div>\n",
      "</div>\n",
      "<div class=\"article article_video_sm\">\n",
      "<div class=\"article__title\"><a href=\"/videos/2018/06/11/152579/\">2018: In memоriam. Голова видавництва «Літопис УПА» Мирон-Михайло Лущак</a></div>\n",
      "<div class=\"article__date\">11 червня 2018 — Святослав Липовецький</div>\n",
      "</div>\n",
      "</div>\n",
      "<div class=\"block_video_sm\">\n",
      "<div class=\"article article_video_tv\"> <div class=\"article__img\"> <a class=\"article__img_link\" href=\"https://zik.ua/tv/project/istorychna-pravda/\" target=\"_blank\"><img alt=\"\" height=\"170\" src=\"/images/doc/a/b/ab9b9fe-tv1.jpg\" width=\"170\"/></a> </div> <div class=\"article__content\"> <div class=\"article__title\"><a href=\"https://zik.ua/tv/project/istorychna-pravda/\" target=\"_blank\"><span>Історична правда</span><br/>з Вахтангом Кіпіані</a></div> <div class=\"article__subtitle\">Щотижневий історичний тележурнал - єдиний на українському телебаченні. У кожній програмі - нові портрети героїв, костюми з епохи, про яку йдеться.</div> </div> </div> <div class=\"article article_video_tv\"> <div class=\"article__img\"> <a class=\"article__img_link\" href=\"http://1tv.com.ua/programs/declassified_history\" target=\"_blank\"><img alt=\"\" height=\"170\" src=\"/images/doc/7/b/7ba5acb-tv2.jpg\" width=\"170\"/></a> </div> <div class=\"article__content\"> <div class=\"article__title\"><a href=\"http://1tv.com.ua/programs/declassified_history\" target=\"_blank\"><span>Розсекречена історія</span><br/>з Олександром Зінченком</a></div> <div class=\"article__subtitle\">Про таємні сторінки минулого нашої країни, невідомі факти її творення та радянські міфи, яких за 25 років досі повністю не вдалося позбутися.</div> </div> </div>\n",
      "</div>\n",
      "</div>\n",
      "<div class=\"block_middle_r\">\n",
      "<div class=\"block_header_small\"><a href=\"/reviews/\">Книги</a></div> <div class=\"article article_texts\"> <div class=\"article__img\"> <a class=\"article__img_link\" href=\"/reviews/2019/03/7/153786/\"><img alt=\"\" src=\"/images/doc/0/f/0f6ac4f-300.jpg\"/></a> </div> <h3 class=\"article__title\"><a href=\"/reviews/2019/03/7/153786/\">Кон-Тікі. Найфантастичніша пригода ХХ століття</a></h3> <div class=\"article__subtitle\">У 1948 році Геєрдал видав книжку «Експедиція Кон-Тікі». Її перший наклад розкупили за 15 діб. Книжку переклали мовами 70 країн світу. Загальний наклад перевищив 50 000 000 примірників. Бо ця книжка вчить мріяти.</div> <div class=\"article__date\">7 березня 2019 — Олександр Зінченко</div> </div> <div class=\"article article_books_sm\"> <div class=\"article__title\"><a href=\"/reviews/2018/09/4/152878/\">Про гагаузів – невидимих сусідів України </a></div> <div class=\"article__date\">4 вересня 2018 — Роман Кабачій</div> </div> <div class=\"article article_books_sm\"> <div class=\"article__title\"><a href=\"/reviews/2018/06/21/152623/\">Навіщо читати ще одну книжку про Голодомор?</a></div> <div class=\"article__date\">21 червня 2018 — Катерина Рубан</div> </div>\n",
      "</div>\n",
      "</div>\n",
      "</div>\n",
      "</div>\n",
      "<div class=\"block_support_banner\">\n",
      "<div class=\"block_support_banner__cover\">\n",
      "<div class=\"block_support_banner__content\">\n",
      "<div class=\"block_support_banner__title\"><a href=\"/donate/\">Допомогти проекту</a></div></div></div></div>\n",
      "<div class=\"block_support_banner__subtitle\"><a href=\"/donate/\">Support the project</a></div>\n",
      "<div class=\"block_support_banner__text\">\n",
      "<p>Єдиним джерелом існування «Історичної правди» є пожертви наших доброчинців. Це дозволяє оплачувати роботу редакції.</p><p>Ми є найбільшим за аудиторією незалежним ресурсом про українське минуле. Від моменту заснування «Історична правда» — це більше 21 мільйона користувачів, більше 11 тисяч науково-популярних, наукових та полемічних публікацій, 600 авторів, 7 спецпроектів.</p>\n",
      "<p><span style=\"text-transform: uppercase;\"><a>«Історична правда»: Не закриваємося. Змінюємося!</a></span></p>\n",
      "</div>\n",
      "\n",
      "\n",
      "\n",
      "<div class=\"block_projects\"> <div class=\"block_projects__wrapper\"> <div class=\"block_header_small\"><a href=\"/themes/\">Спецпроекти</a></div> <div class=\"block_projects__content\"> <div class=\"article article_projects\"> <div class=\"article__header\"><a href=\"/themes/museum/\">Динамічний музей</a></div> <div class=\"article__img\"> <a class=\"article__img_link\" href=\"/columns/2018/07/13/152699/\"><img alt=\"\" src=\"/images/doc/c/f/cf46d3d-300.jpg\"/></a> </div> <div class=\"article__title\"><a href=\"/columns/2018/07/13/152699/\">Музей Майдану. Чи у конкурсі переміг найкращий проект?</a></div> </div> <div class=\"article article_projects\"> <div class=\"article__header\"><a href=\"/themes/holodomor/\">Голодомор</a></div> <div class=\"article__img\"> <a class=\"article__img_link\" href=\"/columns/2019/05/24/155723/\"><img alt=\"\" src=\"/images/doc/1/b/1b09a6c-300.png\"/></a> </div> <div class=\"article__title\"><a href=\"/columns/2019/05/24/155723/\">7 підписів кожні 10 хвилин. Петиція про визнання Німеччиною Голодомору</a></div> </div> <div class=\"article article_projects\"> <div class=\"article__header\"><a href=\"/themes/katyn/\">Катинська справа</a></div> <div class=\"article__img\"> <a class=\"article__img_link\" href=\"/articles/2016/10/10/149229/\"><img alt=\"\" src=\"/images/doc/8/d/8d43404-wajda-b.jpg\"/></a> </div> <div class=\"article__title\"><a href=\"/articles/2016/10/10/149229/\">Анджей Вайда про маму, тата, Харків та Катинь</a></div> </div> <div class=\"article article_projects\"> <div class=\"article__header\"><a href=\"/themes/volyn1943/\">Волинь 1943</a></div> <div class=\"article__img\"> <a class=\"article__img_link\" href=\"/articles/2019/07/11/155947/\"><img alt=\"\" src=\"/images/doc/2/9/297cc02-019-guf-zjzch4o.jpg\"/></a> </div> <div class=\"article__title\"><a href=\"/articles/2019/07/11/155947/\">Сагринь '44: в пастці героїчного наративу</a></div> </div> </div> </div> <div class=\"more_block\"> <a class=\"more_block__link\" href=\"/themes/\">Всі спецпроекти «Історичної правди»</a> </div> </div>\n",
      "\n",
      "\n",
      "<footer class=\"footer\">\n",
      "<div class=\"layout layout__inner_footer\">\n",
      "<div class=\"footer__content\">\n",
      "<div class=\"bottom_logo\">\n",
      "<a class=\"bottom_logo__link\" href=\"/\">\n",
      "<svg aria-label=\"Історична правда\" class=\"brand-svg\" fill=\"#111\" viewbox=\"0 0 414 64\" x=\"0px\" xml:space=\"preserve\" y=\"0px\">\n",
      "<title>Історична правда</title>\n",
      "<path d=\"M14.5,47.5H2V46h2.6V16.5H2V15h5.6c0.7,0,1.3,0,1.8-0.1c0.9-0.1,1.7-0.3,2.6-0.5V46h2.5V47.5 L14.5,47.5L14.5,47.5z M38.2,38.1L38.2,38.1c-1,4-2.5,6.8-4.5,8.4c-1.4,1.1-3.2,1.7-5,1.6c-3.6,0-7-1.8-9-4.9 c-2.3-3.3-3.5-7.3-3.4-11.3c0-5.3,1.4-9.7,4.2-13.1c2.4-2.9,5.2-4.4,8.2-4.4c2.2,0,4.2,0.9,5.8,2.4c2,1.8,3.1,4.3,3.1,7 c0.1,1.6-0.4,3.2-1.4,4.5c-0.7,0.8-1.7,1.3-2.8,1.3c-1.2,0-2.3-0.6-2.8-1.7c-0.7-1.2-1.1-2.5-1-3.9c0-0.8,0.3-1.7,0.8-2.3 c0.4-0.5,0.8-1,1.1-1.4c0.3-0.4,0.5-0.8,0.5-1.3c0-2-1-3-3-3c-1.5-0.2-3,0.7-3.6,2.2c-0.7,2-1,4.2-0.9,6.3V36 c-0.1,2.4,0.2,4.7,0.7,7c0.8,2.4,2.3,3.6,4.5,3.6c1.6,0,3.2-0.9,4.5-2.6c1.4-1.9,2.4-4,2.9-6.3L38.2,38.1L38.2,38.1L38.2,38.1z M63.4,28.3h-1.5c0-2.9-0.6-5.7-1.9-8.2c-1.3-2.5-2.9-3.7-4.9-3.5V46h2.5v1.5H45.2V46h2.5V16.5c-2.1,0-3.9,1.4-5.2,4.1 c-1.1,2.4-1.7,5-1.6,7.6h-1.5L39.9,15H63L63.4,28.3L63.4,28.3L63.4,28.3z M88.6,31.3L88.6,31.3c0,4.9-1.2,8.9-3.6,12.1 s-5.2,4.7-8.3,4.7c-3,0-5.8-1.5-8.2-4.6c-2.6-3.5-4-7.8-3.8-12.2c-0.1-4,1.1-8,3.3-11.4c2.4-3.7,5.3-5.5,8.7-5.5 c3.4,0,6.3,1.8,8.7,5.4C87.5,23.3,88.6,27.2,88.6,31.3L88.6,31.3L88.6,31.3z M80.5,38.1L80.5,38.1V24.5c0.1-2-0.1-4-0.5-5.9 c-0.5-1.9-2.4-3-4.3-2.5c-1.2,0.3-2.2,1.3-2.5,2.5c-0.4,1.9-0.6,3.9-0.5,5.9v13.7c0,3.5,0.3,5.7,0.9,6.8c0.6,1.1,1.7,1.7,3,1.6 c1.6,0.1,3.1-1.1,3.4-2.7C80.4,42,80.6,40.1,80.5,38.1L80.5,38.1L80.5,38.1z M117.3,31.4L117.3,31.4c0,5.2-1.3,9.4-3.8,12.5 c-2.2,2.8-4.9,4.2-7.9,4.2c-1.2,0-2.3-0.5-3.1-1.3c-1-0.9-1.7-2-2.1-3.3v18h2.5V63H90.5v-1.5H93v-45h-2.5V15h6.9 c0.4,0,0.7,0,1.1-0.1c0.6-0.1,1.3-0.3,1.9-0.5v5.2c0.3-1.3,0.9-2.5,1.9-3.4c1.3-1.2,3-1.8,4.8-1.8c3.5,0,6.2,2,8.1,6 C116.7,23.9,117.4,27.6,117.3,31.4L117.3,31.4L117.3,31.4z M109.3,35.9L109.3,35.9v-8.1c0.1-2.5-0.1-5-0.6-7.5 c-0.6-2.7-1.7-4.1-3.4-4.1c-2,0-3.4,1.9-4.2,5.7c-0.6,3.5-0.8,7-0.8,10.5v2.9c0,4.1,0.5,7,1.6,8.7c0.7,1.1,1.9,1.8,3.2,1.8 c1.1,0,2.1-0.8,2.9-2.3C108.9,41.9,109.3,39.4,109.3,35.9L109.3,35.9L109.3,35.9z M146.7,47.5h-12.1V46h2.2V21.7L129.5,45v1h2.2v1.5 h-12.1V46h2.6V16.5h-2.6V15h12.1v1.5h-2.2l0,23.7l7.3-23.1v-0.5h-2.2V15h12.1v1.5h-2.6V46h2.6L146.7,47.5L146.7,47.5L146.7,47.5z M173.2,47.5h-12.4V46h2.5V32.3c-1.2,0.8-2.5,1.5-3.9,2c-1.3,0.5-2.6,0.8-4,0.9c-1.7,0.1-3.3-0.6-4.3-2c-1-1.3-1.5-2.9-1.5-4.5V16.5 h-2.5V15h12.1v1.5H157v13.1c-0.1,0.7,0.2,1.5,0.7,2c0.5,0.4,1,0.6,1.6,0.6c0.7,0,1.3-0.2,1.9-0.6c0.7-0.3,1.4-0.7,2-1.1v-14h-2.2V15 h12.1v1.5h-2.5V46h2.5L173.2,47.5L173.2,47.5L173.2,47.5z M202.2,47.5h-12.1V46h2.2V31.2h-7.3V46h2.2v1.5h-12.1V46h2.5V16.5h-2.5V15 h12.1v1.5h-2.2v13.2h7.3V16.5h-2.2V15h12.1v1.5h-2.5V46h2.5V47.5L202.2,47.5L202.2,47.5z M230.8,44.1L230.8,44.1 c-0.7,1.2-1.7,2.3-2.9,3c-1.1,0.6-2.3,0.9-3.5,0.9c-1.3,0-2.5-0.5-3.3-1.5c-0.8-1-1.4-2.2-1.5-3.5c-0.8,1.3-1.8,2.4-3,3.3 c-1.4,1.1-3.1,1.7-4.9,1.7c-2,0.1-4-0.8-5.2-2.4c-1.3-1.8-1.9-3.9-1.9-6.1c0-3.9,1.3-6.7,4-8.4c2.4-1.5,6-2.2,10.9-2.2v-8.4 c0.1-1.3-0.3-2.6-1.1-3.6c-0.9-0.7-2-1.1-3.1-1c-0.9,0-1.9,0.1-2.7,0.5c-0.6,0.3-1,0.8-1,1.5c0,0.5,0.2,1.1,0.6,1.4 c0.4,0.5,0.7,0.8,0.9,1.1c0.2,0.3,0.4,0.6,0.5,0.9c0.4,0.7,0.5,1.4,0.5,2.1c0,1.2-0.4,2.3-1.1,3.3c-1.3,1.6-3.7,1.8-5.3,0.5 c-0.3-0.2-0.5-0.5-0.7-0.7c-0.7-1-1.1-2.2-1-3.5c0-2.2,0.9-4.2,2.5-5.6c2.1-2,5.1-3,9-3c2.2-0.1,4.4,0.3,6.4,1.2c1.9,1,3,3,2.8,5V41 c0,1,0,1.9,0.1,2.9c0,0.5,0.4,0.9,0.9,0.9c0,0,0,0,0,0c0.3,0,0.7-0.1,0.9-0.3c0.4-0.3,0.8-0.7,1.1-1.1L230.8,44.1L230.8,44.1 L230.8,44.1z M219.5,41.4L219.5,41.4V30.5c-2.9,0.2-4.9,1.3-5.9,3.1c-0.8,1.7-1.1,3.6-1,5.5c-0.1,1.4,0.1,2.9,0.5,4.3 c0.3,1,1.2,1.6,2.2,1.5c0.8,0,1.7-0.6,2.8-1.7C218.5,42.6,219,42,219.5,41.4L219.5,41.4L219.5,41.4z M272.9,47.5h-12.1V46h2.2V16.5 h-6.9V46h2.2v1.5h-12.1V46h2.5V16.5h-2.5V15h26.7v1.5h-2.5V46h2.5L272.9,47.5L272.9,47.5L272.9,47.5z M301.5,31.4L301.5,31.4 c0,5.2-1.3,9.4-3.8,12.5c-2.2,2.8-4.9,4.2-7.9,4.2c-1.2,0-2.3-0.5-3.1-1.3c-1-0.9-1.7-2-2.1-3.3v18h2.5V63h-12.4v-1.5h2.5v-45h-2.5 V15h6.9c0.4,0,0.7,0,1.1-0.1c0.6-0.1,1.3-0.3,1.9-0.5v5.2c0.3-1.3,0.9-2.5,1.9-3.4c1.3-1.2,3-1.8,4.8-1.8c3.5,0,6.2,2,8.1,6 C300.9,23.9,301.6,27.6,301.5,31.4L301.5,31.4L301.5,31.4z M293.5,35.9L293.5,35.9v-8.1c0.1-2.5-0.1-5-0.6-7.5 c-0.6-2.7-1.7-4.1-3.4-4.1c-2,0-3.4,1.9-4.2,5.7c-0.6,3.5-0.8,7-0.7,10.5v2.9c0,4.1,0.5,7,1.6,8.7c0.7,1.1,1.9,1.8,3.2,1.8 c1.1,0,2.1-0.8,2.9-2.3C293.1,41.9,293.5,39.4,293.5,35.9L293.5,35.9L293.5,35.9z M330.3,44.1L330.3,44.1c-0.7,1.2-1.7,2.3-2.9,3 c-1.1,0.6-2.3,0.9-3.5,0.9c-1.3,0-2.5-0.5-3.3-1.5c-0.8-1-1.4-2.2-1.5-3.5c-0.8,1.3-1.8,2.4-3,3.3c-1.4,1.1-3.1,1.7-4.9,1.7 c-2,0.1-4-0.8-5.2-2.4c-1.3-1.8-1.9-3.9-1.9-6.1c0-3.9,1.3-6.7,4-8.4c2.4-1.5,6-2.2,10.9-2.2v-8.4c0.1-1.3-0.3-2.6-1.1-3.6 c-0.9-0.7-2-1.1-3.1-1c-0.9,0-1.9,0.1-2.7,0.5c-0.6,0.3-1,0.8-1,1.5c0,0.5,0.2,1.1,0.6,1.4c0.4,0.5,0.7,0.8,0.9,1.1 c0.2,0.3,0.4,0.6,0.5,0.9c0.4,0.7,0.5,1.4,0.5,2.2c0,1.2-0.4,2.3-1.1,3.3c-1.3,1.6-3.7,1.8-5.3,0.5c-0.3-0.2-0.5-0.5-0.7-0.7 c-0.7-1-1.1-2.2-1-3.5c0-2.2,0.9-4.2,2.5-5.6c2.1-2,5.1-3,9-3c2.2-0.1,4.4,0.3,6.4,1.2c1.9,1,3,3,2.8,5V41c0,1,0,1.9,0.1,2.9 c0,0.5,0.4,0.9,0.9,0.9c0,0,0,0,0,0c0.3,0,0.7-0.1,0.9-0.3c0.4-0.3,0.8-0.7,1.1-1.1L330.3,44.1L330.3,44.1L330.3,44.1z M319.1,41.4 L319.1,41.4V30.5c-2.9,0.2-4.9,1.3-5.9,3.1c-0.8,1.7-1.1,3.6-1,5.5c-0.1,1.4,0.1,2.9,0.5,4.3c0.3,1,1.2,1.6,2.2,1.5 c0.8,0,1.7-0.6,2.8-1.7C318.1,42.6,318.6,42,319.1,41.4L319.1,41.4L319.1,41.4z M355.5,38.3L355.5,38.3c0.1,2.2-0.5,4.4-1.9,6.2 c-1.6,2-4.3,3-8.1,3h-14.8V46h2.5V16.5h-2.5V15h11.1c5.1,0,8.5,0.6,10.1,1.9c1.4,1.1,2.2,2.8,2.2,5.2c0.1,1.8-0.6,3.5-1.8,4.8 c-1.7,1.3-3.7,2.3-5.8,2.7c2.2,0.6,4.3,1.6,6.2,2.9C354.5,33.9,355.5,36.1,355.5,38.3L355.5,38.3L355.5,38.3z M346.7,23.6 L346.7,23.6v-2.2c0-2.2-0.5-3.7-1.5-4.4c-0.8-0.4-1.6-0.6-2.5-0.5h-2.1v12.4h2.2c1,0.1,2-0.2,2.7-0.9 C346.3,27.2,346.7,25.7,346.7,23.6L346.7,23.6L346.7,23.6z M347.4,39.9L347.4,39.9v-2.8c0.1-1.4-0.1-2.9-0.5-4.2 c-0.5-1.5-1.9-2.5-3.5-2.5h-2.7V46h3.5c0.8,0,1.6-0.4,2.1-1C347,44,347.4,42.3,347.4,39.9L347.4,39.9L347.4,39.9z M383.3,59.2h-1.5 c-0.1-2.5-0.8-5-1.9-7.3c-1.5-2.9-3.6-4.4-6.2-4.4h-7.2c-1.7-0.1-3.3,0.6-4.4,1.8c-1.8,1.9-3.1,5.2-3.7,9.9H357V46 c1.6,0.2,3.3-0.4,4.3-1.7c0.8-1.1,1.3-2.3,1.5-3.6c0.2-1.5,0.5-4.3,0.7-8.5c0.2-4.2,0.3-8,0.3-11.4c0-1.7-0.2-2.9-0.7-3.4 c-0.5-0.6-1.3-0.9-2.1-0.8h-0.7V15H382v1.5h-2.6V46h4L383.3,59.2L383.3,59.2L383.3,59.2z M372,46L372,46V16.5h-4.5 c-0.6-0.1-1.1,0.2-1.5,0.6c-0.6,1.1-0.9,2.4-0.8,3.6v5.9c0.1,4.4-0.1,8.9-0.5,13.3c-0.3,2.2-1.3,4.3-2.7,6H372z M411,44.1L411,44.1 c-0.7,1.2-1.7,2.3-2.9,3c-1.1,0.6-2.3,0.9-3.5,0.9c-1.3,0-2.5-0.5-3.3-1.5c-0.8-1-1.4-2.2-1.5-3.5c-0.8,1.3-1.8,2.4-3,3.3 c-1.4,1.1-3.1,1.7-4.9,1.7c-2,0.1-4-0.8-5.2-2.4c-1.3-1.8-1.9-3.9-1.9-6.1c0-3.9,1.3-6.7,4-8.4c2.4-1.5,6-2.2,10.9-2.2v-8.4 c0-1.7-0.4-2.9-1.1-3.6c-0.9-0.7-2-1.1-3.1-1c-0.9,0-1.9,0.1-2.7,0.5c-0.6,0.3-1,0.8-1,1.5c0,0.5,0.2,1.1,0.6,1.4 c0.4,0.5,0.7,0.8,0.9,1.1c0.2,0.3,0.4,0.6,0.5,0.9c0.4,0.7,0.5,1.4,0.5,2.2c0,1.2-0.4,2.3-1.1,3.3c-1.3,1.6-3.7,1.8-5.3,0.5 c-0.3-0.2-0.5-0.5-0.7-0.7c-0.7-1-1-2.2-1-3.5c0-2.2,0.9-4.2,2.5-5.6c2.1-2,5.1-3,9-3c2.2-0.1,4.4,0.3,6.4,1.2c1.9,1,3,3,2.8,5V41 c0,1,0,1.9,0.1,2.9c0,0.5,0.4,0.9,0.9,0.9c0,0,0,0,0,0c0.3,0,0.7-0.1,0.9-0.3c0.4-0.3,0.8-0.7,1.1-1.1L411,44.1L411,44.1L411,44.1z M399.8,41.4L399.8,41.4V30.5c-2.9,0.2-4.9,1.3-5.9,3.1c-0.8,1.7-1.1,3.6-1,5.5c-0.1,1.4,0.1,2.9,0.5,4.3c0.3,1,1.2,1.6,2.2,1.5 c0.7,0,1.7-0.6,2.8-1.7C398.8,42.6,399.3,42,399.8,41.4L399.8,41.4z M8.2,1c2.2,0,4,1.8,4,4s-1.8,4-4,4c-2.2,0-4-1.8-4-4 c0,0,0,0,0,0C4.2,2.8,6,1,8.2,1z\"></path>\n",
      "</svg></a></div></div></div></footer>\n",
      "\n",
      "\n",
      "\n",
      "<div class=\"footer__text\">\n",
      "<p><b>© 2010-2019, Історична правда</b></p><p>Використання матеріалів сайту дозволено лише з посиланням (для інтернет-видань - гіперпосиланням) на «Історичну правду».</p><p>e-mail редакції: <a href=\"mailto:istpravda@gmail.com\">istpravda@gmail.com</a></p>\n",
      "<a class=\"bottom_options__item_support\" href=\"/donate/\"><span class=\"options_text\">Допомогти проекту — Support the project</span></a>\n",
      "</div>\n",
      "<ul class=\"footer_menu\"><li class=\"footer_menu__item\"><a class=\"footer_menu__link\" href=\"/about/\">Про проект</a></li><!--<li class=\"footer_menu__item\"><a href=\"\" class=\"footer_menu__link\">ГО «Історична правда»</a></li><li class=\"footer_menu__item\"><a href=\"/feedback/\" class=\"footer_menu__link\">Зворотній зв'язок</a></li>--><li class=\"footer_menu__item\"><a class=\"footer_menu__link\" href=\"/advertising/\">Реклама на сайті</a></li><!--<li class=\"footer_menu__item\"><a href=\"\" class=\"footer_menu__link\">Умови конфіденційності</a></li>--><li class=\"footer_menu__item\"><a class=\"footer_menu__link\" href=\"/archives/\">Архів</a></li></ul>\n",
      "<div class=\"block_social\">\n",
      "<div class=\"block_social__wrapper\">\n",
      "<div class=\"block_social__content\">\n",
      "<a class=\"block_social__item\" href=\"https://www.facebook.com/istpravda/\">\n",
      "<div class=\"block_social__img block_social__img_fb\">\n",
      "<svg class=\"ico-svg fb-svg\" fill=\"#111\" viewbox=\"0 0 45 37\" x=\"0px\" xml:space=\"preserve\" y=\"0px\">\n",
      "<path d=\"M18.816,9.617V13.61H16.005v4.883h2.811V33h5.774V18.493h3.875s0.363-2.341.539-4.9H24.612V10.253a1.386,1.386,0,0,1,1.252-1.17H29.01V4H24.733C18.674,4,18.816,8.887,18.816,9.617Z\"></path>\n",
      "</svg></div></a></div></div></div>\n",
      "\n",
      "\n",
      "<div class=\"block_social__name\">Facebook</div>\n",
      "\n",
      "<a class=\"block_social__item\" href=\"https://www.twitter.com\">\n",
      "<div class=\"block_social__img block_social__img_tw\">\n",
      "<svg class=\"ico-svg tw-svg\" fill=\"#111\" viewbox=\"0 0 45 37\" x=\"0px\" xml:space=\"preserve\" y=\"0px\">\n",
      "<path d=\"M36,10.6a10.745,10.745,0,0,1-3.071.877,5.486,5.486,0,0,0,2.345-3.069,10.38,10.38,0,0,1-3.38,1.344A5.244,5.244,0,0,0,28,8a5.443,5.443,0,0,0-5.326,5.553,5.941,5.941,0,0,0,.123,1.266A14.9,14.9,0,0,1,11.812,9.012a5.768,5.768,0,0,0-.73,2.806,5.624,5.624,0,0,0,2.367,4.614,5.1,5.1,0,0,1-2.408-.684v0.061a5.526,5.526,0,0,0,4.27,5.455,5.121,5.121,0,0,1-1.4.183,4.516,4.516,0,0,1-1.009-.095,5.414,5.414,0,0,0,4.98,3.867,10.44,10.44,0,0,1-6.608,2.368A9.6,9.6,0,0,1,10,27.511,14.576,14.576,0,0,0,18.178,30c9.808,0,15.17-8.463,15.17-15.8,0-.246-0.008-0.482-0.02-0.718A10.894,10.894,0,0,0,36,10.6Z\"></path>\n",
      "</svg></div></a>\n",
      "\n",
      "\n",
      "<div class=\"block_social__name\">Twitter</div>\n",
      "\n",
      "<a class=\"block_social__item\" href=\"https://www.telegram.com\">\n",
      "<div class=\"block_social__img block_social__img_tg\">\n",
      "<svg class=\"ico-svg tg-svg\" fill=\"#111\" viewbox=\"0 0 45 37\" x=\"0px\" xml:space=\"preserve\" y=\"0px\">\n",
      "<path d=\"M15.5,20.905l3.358,8.49,4.372-4.421L30.722,31,36,7,9,18.373Zm12.788-7.02L20.02,21.508l-1.029,3.924-1.9-4.809Z\"></path>\n",
      "</svg></div></a>\n",
      "\n",
      "\n",
      "<div class=\"block_social__name\">Telegram</div>\n",
      "\n",
      "<a class=\"block_social__item\" href=\"/rss-info/\">\n",
      "<div class=\"block_social__img block_social__img_rss\">\n",
      "<svg class=\"ico-svg rss-svg\" fill=\"#111\" viewbox=\"0 0 45 37\" x=\"0px\" xml:space=\"preserve\" y=\"0px\">\n",
      "<path d=\"M15.375,23.249A2.375,2.375,0,1,1,13,25.625,2.376,2.376,0,0,1,15.375,23.249ZM13,9v3.563A15.437,15.437,0,0,1,28.437,28H32A19,19,0,0,0,13,9Zm8.313,19h3.563A11.875,11.875,0,0,0,13,16.125v3.563A8.313,8.313,0,0,1,21.312,28Z\"></path>\n",
      "</svg></div></a>\n",
      "\n",
      "\n",
      "<div class=\"block_social__name\">RSS</div>\n",
      "\n",
      "\n",
      "\n",
      "\n",
      "<div class=\"counters\">\n",
      "<div class=\"counter\"><!--LiveInternet counter--><script type=\"text/javascript\"><!--\n",
      "document.write(\"<a href='http://www.liveinternet.ru/click;ukrpravda' \"+\n",
      "\"target=_blank><img src='//counter.yadro.ru/hit;ukrpravda?t14.2;r\"+\n",
      "escape(document.referrer)+((typeof(screen)==\"undefined\")?\"\":\n",
      "\";s\"+screen.width+\"*\"+screen.height+\"*\"+(screen.colorDepth?\n",
      "screen.colorDepth:screen.pixelDepth))+\";u\"+escape(document.URL)+\n",
      "\";\"+Math.random()+\n",
      "\"' alt='' title='LiveInternet: показано число просмотров за 24\"+\n",
      "\" часа, посетителей за 24 часа и за сегодня' \"+\n",
      "\"border='0' width='88' height='31'><\\/a>\")\n",
      "//--></script><!--/LiveInternet--> <script type=\"text/javascript\">\n",
      "\n",
      "  var _gaq = _gaq || [];\n",
      "  _gaq.push(['_setAccount', 'UA-19517096-1']);\n",
      "  _gaq.push(['_trackPageview']);\n",
      "\n",
      "  (function() {\n",
      "    var ga = document.createElement('script'); ga.type = 'text/javascript'; ga.async = true;\n",
      "    ga.src = ('https:' == document.location.protocol ? 'https://ssl' : 'http://www') + '.google-analytics.com/ga.js';\n",
      "    var s = document.getElementsByTagName('script')[0]; s.parentNode.insertBefore(ga, s);\n",
      "  })();\n",
      "\n",
      "</script> </div>\n",
      "</div>\n",
      "\n",
      "\n",
      "\n",
      "<div id=\"fb-root\"></div>\n",
      "<script>\n",
      "window.fbAsyncInit = function() {\n",
      "    FB.init({\n",
      "          appId            : '103761373038708',\n",
      "          autoLogAppEvents : true,\n",
      "          xfbml            : true,\n",
      "          version          : 'v2.12'\n",
      "    });\n",
      "};\n",
      "\n",
      "(function(d, s, id) {\n",
      "  var js, fjs = d.getElementsByTagName(s)[0];\n",
      "  if (d.getElementById(id)) return;\n",
      "  js = d.createElement(s); js.id = id;\n",
      "  js.src = 'https://connect.facebook.net/uk_UA/sdk.js#xfbml=1&version=v2.12&appId=103761373038708&autoLogAppEvents=1';\n",
      "  fjs.parentNode.insertBefore(js, fjs);\n",
      "}(document, 'script', 'facebook-jssdk'));</script>\n",
      "<script src=\"/misc/v2/offside.js\"></script>\n",
      "<script>\n",
      "var offsideMenu1 = offside( '#menu-1', {\n",
      "slidingElementsSelector: '#container, #results',\n",
      "debug: true,\n",
      "buttonsSelector: '.menu-btn-1, .menu-btn-1--close',\n",
      "slidingSide: 'left',\n",
      "beforeOpen: function(){},\n",
      "beforeClose: function(){},\n",
      "});\n",
      "\n",
      "var overlay = document.querySelector('.site-overlay')\n",
      ".addEventListener( 'click', offside.factory.closeOpenOffside );\n",
      "</script>\n",
      "<script>\n",
      "  (function(i,s,o,g,r,a,m){i['GoogleAnalyticsObject']=r;i[r]=i[r]||function(){\n",
      "  (i[r].q=i[r].q||[]).push(arguments)},i[r].l=1*new Date();a=s.createElement(o),\n",
      "  m=s.getElementsByTagName(o)[0];a.async=1;a.src=g;m.parentNode.insertBefore(a,m)\n",
      "  })(window,document,'script','https://www.google-analytics.com/analytics.js','ga');\n",
      "\n",
      "  ga('create', 'UA-554376-17', 'auto');\n",
      "  ga('send', 'pageview');\n",
      "\n",
      "</script>\n",
      "<script>\n",
      "  $(document).ready(function(){\n",
      "    $(\".sticked\").sticky({ topSpacing:65, bottomSpacing:500 });\n",
      "    $(\".stuck\").sticky({ topSpacing:65, bottomSpacing:500 });\n",
      "  });\n",
      "</script>\n",
      "<style>.webpush-top-left{background-color:rgba(240,240,240,.95);position:fixed;z-index:1000;align-items:center;padding:18px;color:#1a1a1a;line-height:1.3;box-shadow:0 0 15px 0 rgba(0,0,0,.35);max-width:350px;margin:20px;top:0;left:0;-webkit-transform:translateX(-420px);transform:translateX(-420px)}.webpush-top-left:before{display:block;width:30px;height:30px;min-width:30px;margin-right:20px}@-webkit-keyframes webpush-slide-in-left{20%,100%{-webkit-transform:translateX(0);transform:translateX(0)}}@keyframes webpush-slide-in-left{20%,100%{-webkit-transform:translateX(0);transform:translateX(0)}}.webpush-top-left.do-show{-webkit-animation-name:webpush-slide-in-left;-webkit-animation-duration:7s;-webkit-animation-timing-function:ease;-webkit-animation-iteration-count:2;-webkit-animation-direction:alternate;animation-name:webpush-slide-in-left;animation-duration:7s;animation-timing-function:ease;animation-iteration-count:2;animation-direction:alternate}.webpush-img{margin-right:10px;margin-bottom:5px}.webpush-closebutton{}.webpush-top-left{font-family:proxima_nova_rgregular,Arial,sans-serif;font-size:13px;color:#000}.webpush-top-left h3{font-family:proxima_nova_rgbold,Arial,sans-serif;font-size:15px;color:#000}.webpush-top-left a{color:#000}.webpush-top-left a:hover{color:#900022}.webpush-top-left img{max-width:105px}.webpush-top-left button{float:right;background:#f0f0f0;border:#d6d6d6 1px solid;width:19px;height:19px;background-size:19px;background-image:url(data:image/svg+xml;base64,PHN2ZyBpZD0iTGF5ZXJfMSIgeG1sbnM9Imh0dHA6Ly93d3cudzMub3JnLzIwMDAvc3ZnIiB4bWxuczp4bGluaz0iaHR0cDovL3d3dy53My5vcmcvMTk5OS94bGluayIgdmlld0JveD0iMCAwIDI0IDI0IiBzdHlsZT0iZW5hYmxlLWJhY2tncm91bmQ6bmV3IDAgMCAyNCAyNCI+PHN0eWxlPi5zdDB7ZmlsbDojNjY2fTwvc3R5bGU+PHBhdGggY2xhc3M9InN0MCIgZD0iTTE4LjYgNi4xIDE3LjkgNS40IDEyIDExLjIgNi4xIDUuNCA1LjQgNi4xIDExLjIgMTIgNS40IDE3LjkgNi4xIDE4LjYgMTIgMTIuOCAxNy45IDE4LjYgMTguNiAxNy45IDEyLjggMTJ6Ii8+PC9zdmc+);background-position:-1px;cursor:pointer}.webpush_header{height:15px;display:inline-block;background:#900022;color:#fff;font-family:proxima_nova_rgregular,Arial,sans-serif;font-size:12px;text-transform:uppercase;padding:2px 6px 1px;margin-bottom:4px}</style><div class=\"webpush-top-left\" id=\"internalwebpush\"></div><script>function WPXSSescapeOutput(toOutput){return toOutput.replace(/\\&/g,'&amp;').replace(/\\</g,'&lt;').replace(/\\>/g,'&gt;').replace(/\\\"/g,'&quot;').replace(/\\'/g,'&#x27').replace(/\\//g,'&#x2F');}\n",
      "function WPisValidURL(string){var res=string.match(/(http(s)?:\\/\\/.)?(www\\.)?[-a-zA-Z0-9@:%._\\+~#=]{2,256}\\.[a-z]{2,6}\\b([-a-zA-Z0-9@:%_\\+.~#?&//=]*)/g);if(res==null){return false;}\n",
      "return true;}\n",
      "function WPanimationSupported(){elem=document.createElement('div');if((elem.style.animation!==undefined)||(elem.style.webkit-animation!==undefined)){console.log('[ws.js]: animation is supported');return true;}\n",
      "console.log('[ws.js]: animation is not supported');return false;}\n",
      "var WPhidden,WPvisibilityChange,WPpendingStart=0;if(typeof document.hidden!==\"undefined\"){WPhidden=\"hidden\";WPvisibilityChange=\"visibilitychange\";}else if(typeof document.msHidden!==\"undefined\"){WPhidden=\"msHidden\";WPvisibilityChange=\"msvisibilitychange\";}else if(typeof document.webkitHidden!==\"undefined\"){WPhidden=\"webkitHidden\";WPvisibilityChange=\"webkitvisibilitychange\";}\n",
      "function WPhandleVisibilityChange(){if(document[WPhidden]){console.log('[ws.js]: hidden');}else{console.log('[ws.js]: visible');if(WPpendingStart==1){$('#internalwebpush').removeClass().addClass('webpush-top-left').addClass('do-show');}\n",
      "WPpendingStart=0;}}\n",
      "if('WebSocket'in window){if(typeof document.addEventListener===\"undefined\"||WPhidden===undefined){console.log(\"[ws.js]: No support for Page Visibility API.\");}\n",
      "else{if(WPanimationSupported()){document.addEventListener(WPvisibilityChange,WPhandleVisibilityChange,false);UPwebsocketConn=new WebSocket(\"wss://ws.pravda.com.ua/ws/wscreamer\");UPwebsocketConn.onmessage=function(event){console.log(\"[ws.js]: received message\",event.data);var m=JSON.parse(event.data);if(WPisValidURL(m.url)&&WPisValidURL(m.image)){var x=\"<div class=\\\"webpush_header\\\">\"+WPXSSescapeOutput(m.slogan)+\"</div><button class=\\\"webpush-closebutton\\\" id=\\\"webpush-closebutton\\\"></button><a href=\\\"\"+m.url+\"\\\" target=\\\"_blank\\\"><img  class=\\\"webpush-img\\\" src=\\\"\"+m.image+\"\\\" width=64 heigh=64 align=left><h3>\"+WPXSSescapeOutput(m.title)+\"<br>\"+WPXSSescapeOutput(m.body)+\"</h3></a>\";$('#internalwebpush').replaceWith('<div id=\"internalwebpush\" class=\"webpush-top-left\">'+x+'</div>');$('#webpush-closebutton').click(function(){$('#internalwebpush').removeClass('do-show');});if(document[WPhidden]){console.log(\"[ws.js]: tab is hidden\");WPpendingStart=1;}\n",
      "else{setTimeout(\"$('#internalwebpush').addClass('do-show')\",5000);}}}}}}</script>\n",
      "\n",
      "\n"
     ]
    },
    {
     "ename": "IndexError",
     "evalue": "list index out of range",
     "output_type": "error",
     "traceback": [
      "\u001b[1;31m---------------------------------------------------------------------------\u001b[0m",
      "\u001b[1;31mIndexError\u001b[0m                                Traceback (most recent call last)",
      "\u001b[1;32m<ipython-input-59-851c00432196>\u001b[0m in \u001b[0;36m<module>\u001b[1;34m\u001b[0m\n\u001b[0;32m     13\u001b[0m \u001b[1;33m\u001b[0m\u001b[0m\n\u001b[0;32m     14\u001b[0m     \u001b[1;31m# get the new complete url by adding the fetched URL to the base URL (and removing the .html part of the base URL)\u001b[0m\u001b[1;33m\u001b[0m\u001b[1;33m\u001b[0m\u001b[1;33m\u001b[0m\u001b[0m\n\u001b[1;32m---> 15\u001b[1;33m     \u001b[0mnew_url\u001b[0m \u001b[1;33m=\u001b[0m \u001b[1;34m\"/\"\u001b[0m\u001b[1;33m.\u001b[0m\u001b[0mjoin\u001b[0m\u001b[1;33m(\u001b[0m\u001b[0mpages_urls\u001b[0m\u001b[1;33m[\u001b[0m\u001b[1;33m-\u001b[0m\u001b[1;36m1\u001b[0m\u001b[1;33m]\u001b[0m\u001b[1;33m.\u001b[0m\u001b[0msplit\u001b[0m\u001b[1;33m(\u001b[0m\u001b[1;34m\"/\"\u001b[0m\u001b[1;33m)\u001b[0m\u001b[1;33m[\u001b[0m\u001b[1;33m:\u001b[0m\u001b[1;33m-\u001b[0m\u001b[1;36m1\u001b[0m\u001b[1;33m]\u001b[0m\u001b[1;33m)\u001b[0m \u001b[1;33m+\u001b[0m \u001b[1;34m\"/\"\u001b[0m \u001b[1;33m+\u001b[0m \u001b[0msoup\u001b[0m\u001b[1;33m.\u001b[0m\u001b[0mfindAll\u001b[0m\u001b[1;33m(\u001b[0m\u001b[1;34m\"a\"\u001b[0m\u001b[1;33m,\u001b[0m \u001b[0mhref\u001b[0m\u001b[1;33m=\u001b[0m\u001b[0mre\u001b[0m\u001b[1;33m.\u001b[0m\u001b[0mcompile\u001b[0m\u001b[1;33m(\u001b[0m\u001b[1;34m\"page\"\u001b[0m\u001b[1;33m)\u001b[0m\u001b[1;33m)\u001b[0m\u001b[1;33m[\u001b[0m\u001b[1;33m-\u001b[0m\u001b[1;36m1\u001b[0m\u001b[1;33m]\u001b[0m\u001b[1;33m.\u001b[0m\u001b[0mget\u001b[0m\u001b[1;33m(\u001b[0m\u001b[1;34m\"href\"\u001b[0m\u001b[1;33m)\u001b[0m\u001b[1;33m\u001b[0m\u001b[1;33m\u001b[0m\u001b[0m\n\u001b[0m\u001b[0;32m     16\u001b[0m \u001b[1;33m\u001b[0m\u001b[0m\n\u001b[0;32m     17\u001b[0m     \u001b[1;31m# add the URL to the list\u001b[0m\u001b[1;33m\u001b[0m\u001b[1;33m\u001b[0m\u001b[1;33m\u001b[0m\u001b[0m\n",
      "\u001b[1;31mIndexError\u001b[0m: list index out of range"
     ]
    }
   ],
   "source": [
    "# store all the results into a list\n",
    "pages_urls = [main_url]\n",
    "\n",
    "soup = getAndParseURL(pages_urls[0])\n",
    "\n",
    "print(soup)\n",
    "\n",
    "# while we get two matches, this means that the web page contains a 'previous' and a 'next' button\n",
    "# if there is only one button, this means that we are either on the first page or on the last page\n",
    "# we stop when we get to the last page\n",
    "\n",
    "while len(soup.findAll(\"a\", href=re.compile(\"page\"))) == 2 or len(pages_urls) == 1:\n",
    "    \n",
    "    # get the new complete url by adding the fetched URL to the base URL (and removing the .html part of the base URL)\n",
    "    new_url = \"/\".join(pages_urls[-1].split(\"/\")[:-1]) + \"/\" + soup.findAll(\"a\", href=re.compile(\"page\"))[-1].get(\"href\")\n",
    "    \n",
    "    # add the URL to the list\n",
    "    pages_urls.append(new_url)\n",
    "    \n",
    "    # parse the next page\n",
    "    soup = getAndParseURL(new_url)"
   ]
  },
  {
   "cell_type": "code",
   "execution_count": 14,
   "metadata": {},
   "outputs": [
    {
     "name": "stdout",
     "output_type": "stream",
     "text": [
      "50 fetched URLs\n",
      "Some examples:\n"
     ]
    },
    {
     "data": {
      "text/plain": [
       "['http://books.toscrape.com/index.html',\n",
       " u'http://books.toscrape.com/catalogue/page-2.html',\n",
       " u'http://books.toscrape.com/catalogue/page-3.html',\n",
       " u'http://books.toscrape.com/catalogue/page-4.html',\n",
       " u'http://books.toscrape.com/catalogue/page-5.html']"
      ]
     },
     "execution_count": 14,
     "metadata": {},
     "output_type": "execute_result"
    }
   ],
   "source": [
    "print(str(len(pages_urls)) + \" fetched URLs\")\n",
    "print(\"Some examples:\")\n",
    "pages_urls[:5]"
   ]
  },
  {
   "cell_type": "markdown",
   "metadata": {},
   "source": [
    "We successfully managed to get the 50 pages URLs. What is interesting here is that the URL of those pages is highly predictable. We could have just created this list by incrementing 'page-X.html' until 50.\n",
    "\n",
    "This solution could work for this exact example but would not work anymore if the number of pages changed (e.g. if the website decided to print more products per pages, or if the catalog changed).\n",
    "\n",
    "One solution could be to increment the value until we get on a 404 page."
   ]
  },
  {
   "cell_type": "markdown",
   "metadata": {},
   "source": [
    "<img src=\"images/404.png\">"
   ]
  },
  {
   "cell_type": "markdown",
   "metadata": {},
   "source": [
    "Here we can see that trying to go to the 51th page effectively gets us a 404 error. \n",
    "\n",
    "Fortunately the result of a request has a very useful attribute that can show us the return status of the HTML request."
   ]
  },
  {
   "cell_type": "code",
   "execution_count": 15,
   "metadata": {},
   "outputs": [
    {
     "name": "stdout",
     "output_type": "stream",
     "text": [
      "status code for page 50: 200\n",
      "status code for page 51: 404\n"
     ]
    }
   ],
   "source": [
    "result = requests.get(\"http://books.toscrape.com/catalogue/page-50.html\")\n",
    "print(\"status code for page 50: \" + str(result.status_code))\n",
    "\n",
    "result = requests.get(\"http://books.toscrape.com/catalogue/page-51.html\")\n",
    "print(\"status code for page 51: \" + str(result.status_code))"
   ]
  },
  {
   "cell_type": "markdown",
   "metadata": {},
   "source": [
    "The 200 code indicates that there is no error. The 404 code tells us that the page was not found.\n",
    "\n",
    "We can use this information to get all our pages URLs: we should iterate until we get a 404 code.\n",
    "\n",
    "Let's try this method now:"
   ]
  },
  {
   "cell_type": "code",
   "execution_count": 16,
   "metadata": {},
   "outputs": [],
   "source": [
    "pages_urls = []\n",
    "\n",
    "new_page = \"http://books.toscrape.com/catalogue/page-1.html\"\n",
    "while requests.get(new_page).status_code == 200:\n",
    "    pages_urls.append(new_page)\n",
    "    new_page = pages_urls[-1].split(\"-\")[0] + \"-\" + str(int(pages_urls[-1].split(\"-\")[1].split(\".\")[0]) + 1) + \".html\""
   ]
  },
  {
   "cell_type": "code",
   "execution_count": 17,
   "metadata": {},
   "outputs": [
    {
     "name": "stdout",
     "output_type": "stream",
     "text": [
      "50 fetched URLs\n",
      "Some examples:\n"
     ]
    },
    {
     "data": {
      "text/plain": [
       "['http://books.toscrape.com/catalogue/page-1.html',\n",
       " 'http://books.toscrape.com/catalogue/page-2.html',\n",
       " 'http://books.toscrape.com/catalogue/page-3.html',\n",
       " 'http://books.toscrape.com/catalogue/page-4.html',\n",
       " 'http://books.toscrape.com/catalogue/page-5.html']"
      ]
     },
     "execution_count": 17,
     "metadata": {},
     "output_type": "execute_result"
    }
   ],
   "source": [
    "print(str(len(pages_urls)) + \" fetched URLs\")\n",
    "print(\"Some examples:\")\n",
    "pages_urls[:5]"
   ]
  },
  {
   "cell_type": "markdown",
   "metadata": {},
   "source": [
    "We managed to obtain the same URLs using this simpler method!"
   ]
  },
  {
   "cell_type": "markdown",
   "metadata": {},
   "source": [
    "### Get all products URLs\n",
    "\n",
    "Now the next step consists in fetching all the products URLs for every page. This step is quite simple as we already have the list of all pages and the function to get products URLs from a page.\n",
    "\n",
    "Let's iterate through the pages and apply our function:"
   ]
  },
  {
   "cell_type": "code",
   "execution_count": 18,
   "metadata": {},
   "outputs": [],
   "source": [
    "booksURLs = []\n",
    "for page in pages_urls:\n",
    "    booksURLs.extend(getBooksURLs(page))"
   ]
  },
  {
   "cell_type": "code",
   "execution_count": 19,
   "metadata": {},
   "outputs": [
    {
     "name": "stdout",
     "output_type": "stream",
     "text": [
      "1000 fetched URLs\n",
      "Some examples:\n"
     ]
    },
    {
     "data": {
      "text/plain": [
       "[u'http://books.toscrape.com/catalogue/a-light-in-the-attic_1000/index.html',\n",
       " u'http://books.toscrape.com/catalogue/tipping-the-velvet_999/index.html',\n",
       " u'http://books.toscrape.com/catalogue/soumission_998/index.html',\n",
       " u'http://books.toscrape.com/catalogue/sharp-objects_997/index.html',\n",
       " u'http://books.toscrape.com/catalogue/sapiens-a-brief-history-of-humankind_996/index.html']"
      ]
     },
     "execution_count": 19,
     "metadata": {},
     "output_type": "execute_result"
    }
   ],
   "source": [
    "print(str(len(booksURLs)) + \" fetched URLs\")\n",
    "print(\"Some examples:\")\n",
    "booksURLs[:5]"
   ]
  },
  {
   "cell_type": "markdown",
   "metadata": {},
   "source": [
    "We finally got the 1000 book URLs. This corresponds to the number indicated on the website!"
   ]
  },
  {
   "cell_type": "markdown",
   "metadata": {},
   "source": [
    "### Get product data\n",
    "\n",
    "The last step consist in scraping the data for each product. Let's explore first how the information is structured on the products pages:"
   ]
  },
  {
   "cell_type": "markdown",
   "metadata": {},
   "source": [
    "<img src=\"images/product_inspect.png\">"
   ]
  },
  {
   "cell_type": "markdown",
   "metadata": {},
   "source": [
    "We can easily retrieve a lot of information for every book:\n",
    "- book title\n",
    "- price\n",
    "- availability\n",
    "- image\n",
    "- category\n",
    "- rating\n",
    "\n",
    "Let's do it!"
   ]
  },
  {
   "cell_type": "code",
   "execution_count": 20,
   "metadata": {},
   "outputs": [
    {
     "name": "stdout",
     "output_type": "stream",
     "text": [
      "CPU times: user 45.4 s, sys: 868 ms, total: 46.3 s\n",
      "Wall time: 2min 30s\n"
     ]
    }
   ],
   "source": [
    "%%time\n",
    "\n",
    "names = []\n",
    "prices = []\n",
    "nb_in_stock = []\n",
    "img_urls = []\n",
    "categories = []\n",
    "ratings = []\n",
    "\n",
    "# scrape data for every book URL: this may take some time\n",
    "for url in booksURLs:\n",
    "    soup = getAndParseURL(url)\n",
    "    # product name\n",
    "    names.append(soup.find(\"div\", class_ = re.compile(\"product_main\")).h1.text)\n",
    "    # product price\n",
    "    prices.append(soup.find(\"p\", class_ = \"price_color\").text[2:]) # get rid of the pound sign\n",
    "    # number of available products\n",
    "    nb_in_stock.append(re.sub(\"[^0-9]\", \"\", soup.find(\"p\", class_ = \"instock availability\").text)) # get rid of non numerical characters\n",
    "    # image url\n",
    "    img_urls.append(url.replace(\"index.html\", \"\") + soup.find(\"img\").get(\"src\"))\n",
    "    # product category\n",
    "    categories.append(soup.find(\"a\", href = re.compile(\"../category/books/\")).get(\"href\").split(\"/\")[3])\n",
    "    # ratings\n",
    "    ratings.append(soup.find(\"p\", class_ = re.compile(\"star-rating\")).get(\"class\")[1])"
   ]
  },
  {
   "cell_type": "code",
   "execution_count": 21,
   "metadata": {},
   "outputs": [
    {
     "data": {
      "text/html": [
       "<div>\n",
       "<style scoped>\n",
       "    .dataframe tbody tr th:only-of-type {\n",
       "        vertical-align: middle;\n",
       "    }\n",
       "\n",
       "    .dataframe tbody tr th {\n",
       "        vertical-align: top;\n",
       "    }\n",
       "\n",
       "    .dataframe thead th {\n",
       "        text-align: right;\n",
       "    }\n",
       "</style>\n",
       "<table border=\"1\" class=\"dataframe\">\n",
       "  <thead>\n",
       "    <tr style=\"text-align: right;\">\n",
       "      <th></th>\n",
       "      <th>name</th>\n",
       "      <th>nb_in_stock</th>\n",
       "      <th>price</th>\n",
       "      <th>product_category</th>\n",
       "      <th>rating</th>\n",
       "      <th>url_img</th>\n",
       "    </tr>\n",
       "  </thead>\n",
       "  <tbody>\n",
       "    <tr>\n",
       "      <th>0</th>\n",
       "      <td>A Light in the Attic</td>\n",
       "      <td>22</td>\n",
       "      <td>51.77</td>\n",
       "      <td>poetry_23</td>\n",
       "      <td>Three</td>\n",
       "      <td>http://books.toscrape.com/catalogue/a-light-in...</td>\n",
       "    </tr>\n",
       "    <tr>\n",
       "      <th>1</th>\n",
       "      <td>Tipping the Velvet</td>\n",
       "      <td>20</td>\n",
       "      <td>53.74</td>\n",
       "      <td>historical-fiction_4</td>\n",
       "      <td>One</td>\n",
       "      <td>http://books.toscrape.com/catalogue/tipping-th...</td>\n",
       "    </tr>\n",
       "    <tr>\n",
       "      <th>2</th>\n",
       "      <td>Soumission</td>\n",
       "      <td>20</td>\n",
       "      <td>50.10</td>\n",
       "      <td>fiction_10</td>\n",
       "      <td>One</td>\n",
       "      <td>http://books.toscrape.com/catalogue/soumission...</td>\n",
       "    </tr>\n",
       "    <tr>\n",
       "      <th>3</th>\n",
       "      <td>Sharp Objects</td>\n",
       "      <td>20</td>\n",
       "      <td>47.82</td>\n",
       "      <td>mystery_3</td>\n",
       "      <td>Four</td>\n",
       "      <td>http://books.toscrape.com/catalogue/sharp-obje...</td>\n",
       "    </tr>\n",
       "    <tr>\n",
       "      <th>4</th>\n",
       "      <td>Sapiens: A Brief History of Humankind</td>\n",
       "      <td>20</td>\n",
       "      <td>54.23</td>\n",
       "      <td>history_32</td>\n",
       "      <td>Five</td>\n",
       "      <td>http://books.toscrape.com/catalogue/sapiens-a-...</td>\n",
       "    </tr>\n",
       "  </tbody>\n",
       "</table>\n",
       "</div>"
      ],
      "text/plain": [
       "                                    name nb_in_stock  price  \\\n",
       "0                   A Light in the Attic          22  51.77   \n",
       "1                     Tipping the Velvet          20  53.74   \n",
       "2                             Soumission          20  50.10   \n",
       "3                          Sharp Objects          20  47.82   \n",
       "4  Sapiens: A Brief History of Humankind          20  54.23   \n",
       "\n",
       "       product_category rating  \\\n",
       "0             poetry_23  Three   \n",
       "1  historical-fiction_4    One   \n",
       "2            fiction_10    One   \n",
       "3             mystery_3   Four   \n",
       "4            history_32   Five   \n",
       "\n",
       "                                             url_img  \n",
       "0  http://books.toscrape.com/catalogue/a-light-in...  \n",
       "1  http://books.toscrape.com/catalogue/tipping-th...  \n",
       "2  http://books.toscrape.com/catalogue/soumission...  \n",
       "3  http://books.toscrape.com/catalogue/sharp-obje...  \n",
       "4  http://books.toscrape.com/catalogue/sapiens-a-...  "
      ]
     },
     "execution_count": 21,
     "metadata": {},
     "output_type": "execute_result"
    }
   ],
   "source": [
    "# add data into pandas df\n",
    "import pandas as pd\n",
    "\n",
    "scraped_data = pd.DataFrame({'name': names, 'price': prices, 'nb_in_stock': nb_in_stock, \"url_img\": img_urls, \"product_category\": categories, \"rating\": ratings})\n",
    "scraped_data.head()"
   ]
  },
  {
   "cell_type": "markdown",
   "metadata": {},
   "source": [
    "We got our data: our web scraping experiment is a success. \n",
    "\n",
    "Some data cleaning may be useful before using them:\n",
    "- transform the ratings into numerical values\n",
    "- remove the numbers in the product_category column"
   ]
  },
  {
   "cell_type": "markdown",
   "metadata": {},
   "source": [
    "## Wrap up\n",
    "\n",
    "We have seen how to get through websites and gather data on each web page using automated web scrapers. One key thing in order to build efficient web scrapers is to understand the structure of the website on which you want to scrape the information. This means that you will probably have to maintain you scraper if you want it to remain useful after websites updates.\n",
    "\n",
    "This book store website was an easy example, but in real life you may have to deal with more complex websites that render some of their content using Javascript. You may want to use a browser automator like Selenium for those kind of tasks (https://www.seleniumhq.org/)."
   ]
  }
 ],
 "metadata": {
  "kernelspec": {
   "display_name": "Python 3",
   "language": "python",
   "name": "python3"
  },
  "language_info": {
   "codemirror_mode": {
    "name": "ipython",
    "version": 3
   },
   "file_extension": ".py",
   "mimetype": "text/x-python",
   "name": "python",
   "nbconvert_exporter": "python",
   "pygments_lexer": "ipython3",
   "version": "3.7.3"
  }
 },
 "nbformat": 4,
 "nbformat_minor": 2
}
